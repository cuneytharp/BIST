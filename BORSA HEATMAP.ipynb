{
 "cells": [
  {
   "cell_type": "code",
   "execution_count": 1,
   "id": "20d8dfd0",
   "metadata": {},
   "outputs": [],
   "source": [
    "import requests\n",
    "import pandas as pd\n",
    "from plotly import offline\n",
    "import plotly.express as px\n",
    "import numpy as np"
   ]
  },
  {
   "cell_type": "code",
   "execution_count": 2,
   "id": "abc44996",
   "metadata": {},
   "outputs": [
    {
     "name": "stderr",
     "output_type": "stream",
     "text": [
      "C:\\Users\\Cuneyt\\AppData\\Local\\Temp\\ipykernel_19452\\3165387930.py:2: FutureWarning:\n",
      "\n",
      "Passing literal html to 'read_html' is deprecated and will be removed in a future version. To read from a literal string, wrap it in a 'StringIO' object.\n",
      "\n"
     ]
    }
   ],
   "source": [
    "url =\"https://www.isyatirim.com.tr/tr-tr/analiz/hisse/Sayfalar/Temel-Degerler-Ve-Oranlar.aspx?endeks=09#page-1\"\n",
    "tablo = pd.read_html(requests.get(url).text)[2]"
   ]
  },
  {
   "cell_type": "code",
   "execution_count": 3,
   "id": "52ffda83",
   "metadata": {},
   "outputs": [],
   "source": [
    "def takas_baslangic(stock):\n",
    "    if stock in takas.index:\n",
    "        return round(takas.loc[stock][0],2)\n",
    "    else:\n",
    "        return 0\n",
    "def takas_bitis(stock):\n",
    "    if stock in takas.index:\n",
    "        return round(takas.loc[stock][-1],2)\n",
    "    else:\n",
    "        return 0"
   ]
  },
  {
   "cell_type": "code",
   "execution_count": 4,
   "id": "47d7b169",
   "metadata": {},
   "outputs": [],
   "source": [
    "takas =pd.read_excel(\"takas.xlsx\").set_index(\"TARIH\").transpose()"
   ]
  },
  {
   "cell_type": "code",
   "execution_count": 5,
   "id": "516b7c84",
   "metadata": {},
   "outputs": [],
   "source": [
    "sektor = pd.DataFrame({\"Hisse\":tablo[\"Kod\"],\"Sektör\":tablo[\"Sektör\"],\"Piyasa Değeri(mn $)\":tablo[\"Piyasa Değeri (mn $)\"]})"
   ]
  },
  {
   "cell_type": "code",
   "execution_count": 6,
   "id": "6d421eb4",
   "metadata": {},
   "outputs": [],
   "source": [
    "main_data = pd.read_html(url)"
   ]
  },
  {
   "cell_type": "code",
   "execution_count": 7,
   "id": "44da73fe",
   "metadata": {},
   "outputs": [],
   "source": [
    "temel_analiz = pd.DataFrame({\"Hisse\":main_data[6][\"Kod\"],\"F/K\":main_data[6][\"F/K\"],\"PDDD\":main_data[6][\"PD/DD\"]})"
   ]
  },
  {
   "cell_type": "code",
   "execution_count": 8,
   "id": "a13c5935",
   "metadata": {},
   "outputs": [
    {
     "name": "stderr",
     "output_type": "stream",
     "text": [
      "C:\\Users\\Cuneyt\\AppData\\Local\\Temp\\ipykernel_19452\\2200440582.py:1: FutureWarning:\n",
      "\n",
      "Passing literal html to 'read_html' is deprecated and will be removed in a future version. To read from a literal string, wrap it in a 'StringIO' object.\n",
      "\n"
     ]
    }
   ],
   "source": [
    "second_tablo = pd.read_html(requests.get(url).text)[7]"
   ]
  },
  {
   "cell_type": "code",
   "execution_count": 9,
   "id": "e460ffab",
   "metadata": {},
   "outputs": [],
   "source": [
    "getiri =pd.DataFrame({\"Hisse\":second_tablo[\"Kod\"],\"Getiri\":second_tablo[\"Günlük Getiri (%)\"]/100})"
   ]
  },
  {
   "cell_type": "code",
   "execution_count": 10,
   "id": "00d18790",
   "metadata": {},
   "outputs": [
    {
     "name": "stderr",
     "output_type": "stream",
     "text": [
      "C:\\Users\\Cuneyt\\AppData\\Local\\Temp\\ipykernel_19452\\3647668305.py:3: FutureWarning:\n",
      "\n",
      "Series.__getitem__ treating keys as positions is deprecated. In a future version, integer keys will always be treated as labels (consistent with DataFrame behavior). To access a value by position, use `ser.iloc[pos]`\n",
      "\n",
      "C:\\Users\\Cuneyt\\AppData\\Local\\Temp\\ipykernel_19452\\3647668305.py:8: FutureWarning:\n",
      "\n",
      "Series.__getitem__ treating keys as positions is deprecated. In a future version, integer keys will always be treated as labels (consistent with DataFrame behavior). To access a value by position, use `ser.iloc[pos]`\n",
      "\n"
     ]
    }
   ],
   "source": [
    "df =pd.merge(sektor,getiri,on=\"Hisse\")\n",
    "df = pd.merge(df,temel_analiz,on=\"Hisse\")\n",
    "df[\"TAKAS_BASLANGIC\"]=df[\"Hisse\"].apply(takas_baslangic).astype(float)\n",
    "df[\"TAKAS_SON\"]=df[\"Hisse\"].apply(takas_bitis).astype(float)\n",
    "df[\"TAKAS_FARK\"]=(df[\"TAKAS_SON\"]-df[\"TAKAS_BASLANGIC\"]).astype(float)"
   ]
  },
  {
   "cell_type": "code",
   "execution_count": 11,
   "id": "7a4669fc",
   "metadata": {},
   "outputs": [
    {
     "data": {
      "text/plain": [
       "(544, 9)"
      ]
     },
     "execution_count": 11,
     "metadata": {},
     "output_type": "execute_result"
    }
   ],
   "source": [
    "df.shape"
   ]
  },
  {
   "cell_type": "code",
   "execution_count": 12,
   "id": "c80e3f24",
   "metadata": {},
   "outputs": [],
   "source": [
    "df[\"PDDD\"] = round(df[\"PDDD\"].apply(lambda x:x if x != \"A/D\" else np.nan).astype(float)/10,2)\n",
    "df[\"F/K\"] = round(df[\"F/K\"].apply(lambda x:x if x != \"A/D\" else np.nan).astype(float)/10,2)"
   ]
  },
  {
   "cell_type": "code",
   "execution_count": 13,
   "id": "1bd1055e",
   "metadata": {},
   "outputs": [],
   "source": [
    "df[\"Piyasa Değeri(mn $)\"]=df[\"Piyasa Değeri(mn $)\"].str.replace(\".\",\"\").str.replace(\",\",\".\").astype(float)"
   ]
  },
  {
   "cell_type": "code",
   "execution_count": 14,
   "id": "416587ed",
   "metadata": {},
   "outputs": [
    {
     "data": {
      "text/plain": [
       "(58, 9)"
      ]
     },
     "execution_count": 14,
     "metadata": {},
     "output_type": "execute_result"
    }
   ],
   "source": [
    "null_items= df[df[\"TAKAS_BASLANGIC\"].isnull()].index\n",
    "df.drop(index=null_items,inplace=True)\n",
    "df.drop(df[df[\"TAKAS_SON\"]<3].index,inplace=True)\n",
    "df.drop(df[df[\"TAKAS_FARK\"]<1].index,inplace=True)\n",
    "df.shape\n",
    "#takas.loc[stock][-1]-"
   ]
  },
  {
   "cell_type": "code",
   "execution_count": 15,
   "id": "ff320b8e",
   "metadata": {},
   "outputs": [],
   "source": [
    "def define_color(stock):\n",
    "    diff = df[df[\"Hisse\"]==stock][\"TAKAS_FARK\"].values[0]\n",
    "    \n",
    "    if diff>8:\n",
    "        return \"green\"\n",
    "    if diff>6:\n",
    "        return \"lime\"\n",
    "    if diff>4:\n",
    "        return \"lightgreen\"\n",
    "    if diff>3:\n",
    "        return \"lightpink\"\n",
    "    if diff>2:\n",
    "        return \"indianred\"\n",
    "    else:\n",
    "        return \"red\""
   ]
  },
  {
   "cell_type": "code",
   "execution_count": null,
   "id": "ae257ed7",
   "metadata": {},
   "outputs": [],
   "source": []
  },
  {
   "cell_type": "code",
   "execution_count": 17,
   "id": "2e7ea86b",
   "metadata": {},
   "outputs": [],
   "source": [
    "df[\"Renk\"]=df[\"Hisse\"].apply(define_color)"
   ]
  },
  {
   "cell_type": "code",
   "execution_count": 18,
   "id": "79f9583a",
   "metadata": {},
   "outputs": [
    {
     "data": {
      "text/html": [
       "<div>\n",
       "<style scoped>\n",
       "    .dataframe tbody tr th:only-of-type {\n",
       "        vertical-align: middle;\n",
       "    }\n",
       "\n",
       "    .dataframe tbody tr th {\n",
       "        vertical-align: top;\n",
       "    }\n",
       "\n",
       "    .dataframe thead th {\n",
       "        text-align: right;\n",
       "    }\n",
       "</style>\n",
       "<table border=\"1\" class=\"dataframe\">\n",
       "  <thead>\n",
       "    <tr style=\"text-align: right;\">\n",
       "      <th></th>\n",
       "      <th>Hisse</th>\n",
       "      <th>Sektör</th>\n",
       "      <th>Piyasa Değeri(mn $)</th>\n",
       "      <th>Getiri</th>\n",
       "      <th>F/K</th>\n",
       "      <th>PDDD</th>\n",
       "      <th>TAKAS_BASLANGIC</th>\n",
       "      <th>TAKAS_SON</th>\n",
       "      <th>TAKAS_FARK</th>\n",
       "      <th>Renk</th>\n",
       "    </tr>\n",
       "  </thead>\n",
       "  <tbody>\n",
       "    <tr>\n",
       "      <th>518</th>\n",
       "      <td>VBTYZ</td>\n",
       "      <td>Teknoloji</td>\n",
       "      <td>1037.0</td>\n",
       "      <td>2.8</td>\n",
       "      <td>25.6</td>\n",
       "      <td>10.1</td>\n",
       "      <td>1.65</td>\n",
       "      <td>20.94</td>\n",
       "      <td>19.29</td>\n",
       "      <td>green</td>\n",
       "    </tr>\n",
       "  </tbody>\n",
       "</table>\n",
       "</div>"
      ],
      "text/plain": [
       "     Hisse     Sektör  Piyasa Değeri(mn $)  Getiri   F/K  PDDD  \\\n",
       "518  VBTYZ  Teknoloji               1037.0     2.8  25.6  10.1   \n",
       "\n",
       "     TAKAS_BASLANGIC  TAKAS_SON  TAKAS_FARK   Renk  \n",
       "518             1.65      20.94       19.29  green  "
      ]
     },
     "execution_count": 18,
     "metadata": {},
     "output_type": "execute_result"
    }
   ],
   "source": [
    "df[df[\"TAKAS_FARK\"]==df[\"TAKAS_FARK\"].max()]"
   ]
  },
  {
   "cell_type": "code",
   "execution_count": 27,
   "id": "ef7583e5",
   "metadata": {},
   "outputs": [],
   "source": [
    "fig=px.treemap(df,path=[px.Constant(\"BIST\"),\"Renk\",\"Hisse\"],\n",
    "               values=\"TAKAS_FARK\",\n",
    "               color=\"Renk\",\n",
    "               custom_data=[\"Getiri\",\"Sektör\",\"F/K\",\"PDDD\",\"TAKAS_BASLANGIC\",\"TAKAS_SON\"],\n",
    "               color_discrete_map={\"(?)\":\"#ADD8E6\",\"red\":\"red\",\"indianred\":\"indianred\",\"lightpink\":\"lightpink\",\"lightgreen\":\"lightgreen\",\"lime\":\"lime\",\"green\":\"green\"}\n",
    "              )"
   ]
  },
  {
   "cell_type": "code",
   "execution_count": 28,
   "id": "a220d79f",
   "metadata": {},
   "outputs": [
    {
     "data": {
      "application/vnd.plotly.v1+json": {
       "config": {
        "plotlyServerURL": "https://plot.ly"
       },
       "data": [
        {
         "branchvalues": "total",
         "customdata": [
          [
           2.8,
           "Teknoloji",
           25.6,
           10.1,
           1.65,
           20.94,
           "green"
          ],
          [
           3.98,
           "Perakande - Ticaret",
           9.5,
           3,
           1.67,
           10.71,
           "green"
          ],
          [
           1.64,
           "Perakande - Ticaret",
           1.1,
           0.5,
           1.83,
           4.8,
           "indianred"
          ],
          [
           2.11,
           "Kağıt Ürünleri",
           null,
           5.6,
           0.63,
           3.19,
           "indianred"
          ],
          [
           5.67,
           "Elektrik Üretim",
           18.3,
           3.5,
           3.44,
           5.5,
           "indianred"
          ],
          [
           2.36,
           "Dayanıklı Tüketim",
           3.1,
           0.9,
           15.15,
           18.03,
           "indianred"
          ],
          [
           -1.28,
           "Tarım Kimyasalları",
           null,
           14,
           18.8,
           21.15,
           "indianred"
          ],
          [
           0.83,
           "Gıda",
           18.4,
           4.9,
           0.76,
           3.02,
           "indianred"
          ],
          [
           9.98,
           "Aracı Kurumlar",
           4.9,
           3.5,
           0.96,
           3.7,
           "indianred"
          ],
          [
           4.02,
           "Tekstil Entegre",
           9.4,
           4.9,
           39.49,
           42.25,
           "indianred"
          ],
          [
           1.56,
           "Holdingler",
           3.1,
           0.9,
           15.17,
           17.31,
           "indianred"
          ],
          [
           8.94,
           "Elektrik Enerji Ürt.Teçh/Tesis Kurulum",
           29.6,
           8.2,
           4.83,
           7.8,
           "indianred"
          ],
          [
           3.65,
           "Elektrik Enerji Ürt.Teçh/Tesis Kurulum",
           30.7,
           10,
           5.87,
           8.48,
           "indianred"
          ],
          [
           0.5,
           "GYO",
           3.7,
           1.8,
           8.41,
           11.21,
           "indianred"
          ],
          [
           6.69,
           "Savunma",
           39.5,
           18.3,
           3.62,
           6.5,
           "indianred"
          ],
          [
           -2.37,
           "Perakande - Ticaret",
           7.6,
           4.5,
           10.75,
           13.3,
           "indianred"
          ],
          [
           -0.55,
           "Endüstriyel Tekstil",
           26.8,
           6.7,
           8.03,
           12.49,
           "lightgreen"
          ],
          [
           4.45,
           "GYO",
           2.3,
           0.6,
           0.32,
           5.55,
           "lightgreen"
          ],
          [
           1.39,
           "Holdingler",
           null,
           1.7,
           2.69,
           6.86,
           "lightgreen"
          ],
          [
           5.73,
           "Ulaştırma-Lojistik",
           36.7,
           6.6,
           38.38,
           44.09,
           "lightgreen"
          ],
          [
           9.97,
           "Tarım Kimyasalları",
           null,
           10.3,
           0.19,
           3.52,
           "lightpink"
          ],
          [
           4.55,
           "Seramik",
           19.5,
           6.7,
           4.23,
           8.19,
           "lightpink"
          ],
          [
           10,
           "Kimyasal Ürün",
           null,
           21.5,
           0.2,
           3.4,
           "lightpink"
          ],
          [
           3.59,
           "GYO",
           3.1,
           1.4,
           0.14,
           3.63,
           "lightpink"
          ],
          [
           6.32,
           "Medya",
           null,
           10.9,
           36.67,
           40.5,
           "lightpink"
          ],
          [
           1.33,
           "Bankacılık",
           2.6,
           1,
           54.17,
           57.27,
           "lightpink"
          ],
          [
           3.62,
           "Teknoloji",
           33.6,
           16.7,
           2.61,
           6.51,
           "lightpink"
          ],
          [
           4.84,
           "Gıda",
           4.8,
           1.7,
           6.74,
           12.94,
           "lime"
          ],
          [
           -2.41,
           "Gıda",
           18.9,
           12.6,
           0.1,
           6.22,
           "lime"
          ],
          [
           2.25,
           "Gıda",
           18.4,
           3.4,
           69.61,
           70.83,
           "red"
          ],
          [
           2.41,
           "Sağlık ve İlaç",
           11.8,
           4.4,
           17.24,
           18.81,
           "red"
          ],
          [
           -1.11,
           "Petrol",
           5.2,
           3.8,
           41.82,
           43.22,
           "red"
          ],
          [
           -0.17,
           "Havayolları ve Hizm.",
           4,
           0.9,
           33.62,
           35.05,
           "red"
          ],
          [
           -1.47,
           "Holdingler",
           2.3,
           0.9,
           48.36,
           49.92,
           "red"
          ],
          [
           3.17,
           "Çimento",
           14.5,
           5.2,
           18.31,
           19.64,
           "red"
          ],
          [
           2.23,
           "Elektrik Üretim",
           2.4,
           1.5,
           12.7,
           14.3,
           "red"
          ],
          [
           3.36,
           "Bankacılık",
           2.6,
           0.9,
           39.16,
           40.22,
           "red"
          ],
          [
           -0.21,
           "Çimento",
           null,
           null,
           56.37,
           57.73,
           "red"
          ],
          [
           2.61,
           "Meşrubat / İçecek",
           10.1,
           2.1,
           57.51,
           59.04,
           "red"
          ],
          [
           2.69,
           "Bankacılık",
           2.6,
           0.8,
           16.13,
           17.4,
           "red"
          ],
          [
           1.58,
           "Turizm",
           null,
           8.5,
           4.21,
           6.06,
           "red"
          ],
          [
           3.24,
           "Holdingler",
           5.3,
           0.9,
           9.28,
           10.36,
           "red"
          ],
          [
           -1.53,
           "Otomotiv Parçası",
           null,
           null,
           26.01,
           27.16,
           "red"
          ],
          [
           8.66,
           "Holdingler",
           1.6,
           1.6,
           2.5,
           4.05,
           "red"
          ],
          [
           1.25,
           "Perakande - Ticaret",
           8.8,
           4.8,
           3.71,
           5.64,
           "red"
          ],
          [
           3.84,
           "Çimento",
           10.6,
           5.2,
           6.03,
           7.33,
           "red"
          ],
          [
           5.49,
           "Teknoloji",
           14.3,
           5.2,
           36.63,
           38.04,
           "red"
          ],
          [
           1.81,
           "Demir-Çelik Temel",
           21.5,
           4,
           12.4,
           13.74,
           "red"
          ],
          [
           3,
           "Bilgisayar Toptancılığı",
           null,
           3.6,
           3.26,
           4.87,
           "red"
          ],
          [
           2.07,
           "Elektrik Enerji Ürt.Teçh/Tesis Kurulum",
           20.8,
           7.4,
           8.2,
           9.44,
           "red"
          ],
          [
           1.48,
           "Çimento",
           5.1,
           2.3,
           3.15,
           4.69,
           "red"
          ],
          [
           5.58,
           "Turizm",
           15,
           3.9,
           2.02,
           3.41,
           "red"
          ],
          [
           2.06,
           "Bilgisayar Toptancılığı",
           null,
           5.4,
           23.5,
           24.95,
           "red"
          ],
          [
           0.06,
           "Elektrik Üretim",
           8.8,
           2.5,
           5.32,
           6.73,
           "red"
          ],
          [
           -0.54,
           "İnşaat- Taahhüt",
           34.2,
           21.2,
           2.04,
           3.97,
           "red"
          ],
          [
           7.39,
           "Seramik",
           12.2,
           6.5,
           1.34,
           3,
           "red"
          ],
          [
           5.63,
           "Meşrubat / İçecek",
           15.9,
           4,
           79.52,
           81.07,
           "red"
          ],
          [
           1.61,
           "Bankacılık",
           2.5,
           1,
           36.3,
           38.21,
           "red"
          ],
          [
           "(?)",
           "(?)",
           "(?)",
           "(?)",
           "(?)",
           "(?)",
           "green"
          ],
          [
           "(?)",
           "(?)",
           "(?)",
           "(?)",
           "(?)",
           "(?)",
           "indianred"
          ],
          [
           "(?)",
           "(?)",
           "(?)",
           "(?)",
           "(?)",
           "(?)",
           "lightgreen"
          ],
          [
           "(?)",
           "(?)",
           "(?)",
           "(?)",
           "(?)",
           "(?)",
           "lightpink"
          ],
          [
           "(?)",
           "Gıda",
           "(?)",
           "(?)",
           "(?)",
           "(?)",
           "lime"
          ],
          [
           "(?)",
           "(?)",
           "(?)",
           "(?)",
           "(?)",
           "(?)",
           "red"
          ],
          [
           "(?)",
           "(?)",
           "(?)",
           "(?)",
           "(?)",
           "(?)",
           "(?)"
          ]
         ],
         "domain": {
          "x": [
           0,
           1
          ],
          "y": [
           0,
           1
          ]
         },
         "hovertemplate": "Hisse: %{label}<br><b>Piyasa Değeri($): %{value}<br><b>Son Gün Getiri: %{customdata[0]}<br><b>Sektör:%{customdata[1]}<br><b>F/K: %{customdata[2]}<br><b>PD/DD: %{customdata[3]}<br><b>TAKAS 3W ÖNCESİ: %{customdata[4]}<br><b>TAKAS SON: %{customdata[5]}",
         "ids": [
          "BIST/green/VBTYZ",
          "BIST/green/GRTRK",
          "BIST/indianred/ADESE",
          "BIST/indianred/KAPLM",
          "BIST/indianred/IZENR",
          "BIST/indianred/IHEVA",
          "BIST/indianred/HEKTS",
          "BIST/indianred/OFSYM",
          "BIST/indianred/GEDIK",
          "BIST/indianred/MAVI",
          "BIST/indianred/DOHOL",
          "BIST/indianred/CWENE",
          "BIST/indianred/EUPWR",
          "BIST/indianred/VRGYO",
          "BIST/indianred/SDTTR",
          "BIST/indianred/TKNSA",
          "BIST/lightgreen/SASA",
          "BIST/lightgreen/KZGYO",
          "BIST/lightgreen/EUHOL",
          "BIST/lightgreen/DOCO",
          "BIST/lightpink/TARKM",
          "BIST/lightpink/KLSER",
          "BIST/lightpink/ONCSM",
          "BIST/lightpink/MHRGY",
          "BIST/lightpink/IHAAS",
          "BIST/lightpink/AKBNK",
          "BIST/lightpink/MIATK",
          "BIST/lime/KAYSE",
          "BIST/lime/TABGD",
          "BIST/red/ULKER",
          "BIST/red/SELEC",
          "BIST/red/TUPRS",
          "BIST/red/THYAO",
          "BIST/red/SAHOL",
          "BIST/red/NUHCM",
          "BIST/red/ODAS",
          "BIST/red/ISCTR",
          "BIST/red/KONYA",
          "BIST/red/AEFES",
          "BIST/red/ALBRK",
          "BIST/red/AYCES",
          "BIST/red/BERA",
          "BIST/red/BFREN",
          "BIST/red/BINHO",
          "BIST/red/BIZIM",
          "BIST/red/BOBET",
          "BIST/red/LOGO",
          "BIST/red/BRSAN",
          "BIST/red/DGATE",
          "BIST/red/GESAN",
          "BIST/red/GOLTS",
          "BIST/red/GRSEL",
          "BIST/red/HTTBT",
          "BIST/red/IPEKE",
          "BIST/red/YEOTK",
          "BIST/red/KLKIM",
          "BIST/red/CCOLA",
          "BIST/red/YKBNK",
          "BIST/green",
          "BIST/indianred",
          "BIST/lightgreen",
          "BIST/lightpink",
          "BIST/lime",
          "BIST/red",
          "BIST"
         ],
         "labels": [
          "VBTYZ",
          "GRTRK",
          "ADESE",
          "KAPLM",
          "IZENR",
          "IHEVA",
          "HEKTS",
          "OFSYM",
          "GEDIK",
          "MAVI",
          "DOHOL",
          "CWENE",
          "EUPWR",
          "VRGYO",
          "SDTTR",
          "TKNSA",
          "SASA",
          "KZGYO",
          "EUHOL",
          "DOCO",
          "TARKM",
          "KLSER",
          "ONCSM",
          "MHRGY",
          "IHAAS",
          "AKBNK",
          "MIATK",
          "KAYSE",
          "TABGD",
          "ULKER",
          "SELEC",
          "TUPRS",
          "THYAO",
          "SAHOL",
          "NUHCM",
          "ODAS",
          "ISCTR",
          "KONYA",
          "AEFES",
          "ALBRK",
          "AYCES",
          "BERA",
          "BFREN",
          "BINHO",
          "BIZIM",
          "BOBET",
          "LOGO",
          "BRSAN",
          "DGATE",
          "GESAN",
          "GOLTS",
          "GRSEL",
          "HTTBT",
          "IPEKE",
          "YEOTK",
          "KLKIM",
          "CCOLA",
          "YKBNK",
          "green",
          "indianred",
          "lightgreen",
          "lightpink",
          "lime",
          "red",
          "BIST"
         ],
         "marker": {
          "colors": [
           "green",
           "green",
           "indianred",
           "indianred",
           "indianred",
           "indianred",
           "indianred",
           "indianred",
           "indianred",
           "indianred",
           "indianred",
           "indianred",
           "indianred",
           "indianred",
           "indianred",
           "indianred",
           "lightgreen",
           "lightgreen",
           "lightgreen",
           "lightgreen",
           "lightpink",
           "lightpink",
           "lightpink",
           "lightpink",
           "lightpink",
           "lightpink",
           "lightpink",
           "lime",
           "lime",
           "red",
           "red",
           "red",
           "red",
           "red",
           "red",
           "red",
           "red",
           "red",
           "red",
           "red",
           "red",
           "red",
           "red",
           "red",
           "red",
           "red",
           "red",
           "red",
           "red",
           "red",
           "red",
           "red",
           "red",
           "red",
           "red",
           "red",
           "red",
           "red",
           "green",
           "indianred",
           "lightgreen",
           "lightpink",
           "lime",
           "red",
           "#ADD8E6"
          ]
         },
         "name": "",
         "parents": [
          "BIST/green",
          "BIST/green",
          "BIST/indianred",
          "BIST/indianred",
          "BIST/indianred",
          "BIST/indianred",
          "BIST/indianred",
          "BIST/indianred",
          "BIST/indianred",
          "BIST/indianred",
          "BIST/indianred",
          "BIST/indianred",
          "BIST/indianred",
          "BIST/indianred",
          "BIST/indianred",
          "BIST/indianred",
          "BIST/lightgreen",
          "BIST/lightgreen",
          "BIST/lightgreen",
          "BIST/lightgreen",
          "BIST/lightpink",
          "BIST/lightpink",
          "BIST/lightpink",
          "BIST/lightpink",
          "BIST/lightpink",
          "BIST/lightpink",
          "BIST/lightpink",
          "BIST/lime",
          "BIST/lime",
          "BIST/red",
          "BIST/red",
          "BIST/red",
          "BIST/red",
          "BIST/red",
          "BIST/red",
          "BIST/red",
          "BIST/red",
          "BIST/red",
          "BIST/red",
          "BIST/red",
          "BIST/red",
          "BIST/red",
          "BIST/red",
          "BIST/red",
          "BIST/red",
          "BIST/red",
          "BIST/red",
          "BIST/red",
          "BIST/red",
          "BIST/red",
          "BIST/red",
          "BIST/red",
          "BIST/red",
          "BIST/red",
          "BIST/red",
          "BIST/red",
          "BIST/red",
          "BIST/red",
          "BIST",
          "BIST",
          "BIST",
          "BIST",
          "BIST",
          "BIST",
          ""
         ],
         "type": "treemap",
         "values": [
          19.290000000000003,
          9.040000000000001,
          2.9699999999999998,
          2.56,
          2.06,
          2.880000000000001,
          2.349999999999998,
          2.26,
          2.74,
          2.759999999999998,
          2.139999999999999,
          2.9699999999999998,
          2.6100000000000003,
          2.8000000000000007,
          2.88,
          2.5500000000000007,
          4.460000000000001,
          5.2299999999999995,
          4.17,
          5.710000000000001,
          3.33,
          3.959999999999999,
          3.1999999999999997,
          3.4899999999999998,
          3.8299999999999983,
          3.1000000000000014,
          3.9,
          6.199999999999999,
          6.12,
          1.2199999999999989,
          1.5700000000000003,
          1.3999999999999986,
          1.4299999999999997,
          1.5600000000000023,
          1.3300000000000018,
          1.6000000000000014,
          1.0600000000000023,
          1.3599999999999994,
          1.5300000000000011,
          1.2699999999999996,
          1.8499999999999996,
          1.08,
          1.1499999999999986,
          1.5499999999999998,
          1.9299999999999997,
          1.2999999999999998,
          1.4099999999999966,
          1.3399999999999999,
          1.6100000000000003,
          1.2400000000000002,
          1.5400000000000005,
          1.3900000000000001,
          1.4499999999999993,
          1.4100000000000001,
          1.9300000000000002,
          1.66,
          1.5499999999999972,
          1.9100000000000037,
          28.330000000000005,
          36.529999999999994,
          19.57,
          24.81,
          12.32,
          42.63,
          164.19
         ]
        }
       ],
       "layout": {
        "legend": {
         "tracegroupgap": 0
        },
        "margin": {
         "t": 60
        },
        "template": {
         "data": {
          "bar": [
           {
            "error_x": {
             "color": "#2a3f5f"
            },
            "error_y": {
             "color": "#2a3f5f"
            },
            "marker": {
             "line": {
              "color": "#E5ECF6",
              "width": 0.5
             },
             "pattern": {
              "fillmode": "overlay",
              "size": 10,
              "solidity": 0.2
             }
            },
            "type": "bar"
           }
          ],
          "barpolar": [
           {
            "marker": {
             "line": {
              "color": "#E5ECF6",
              "width": 0.5
             },
             "pattern": {
              "fillmode": "overlay",
              "size": 10,
              "solidity": 0.2
             }
            },
            "type": "barpolar"
           }
          ],
          "carpet": [
           {
            "aaxis": {
             "endlinecolor": "#2a3f5f",
             "gridcolor": "white",
             "linecolor": "white",
             "minorgridcolor": "white",
             "startlinecolor": "#2a3f5f"
            },
            "baxis": {
             "endlinecolor": "#2a3f5f",
             "gridcolor": "white",
             "linecolor": "white",
             "minorgridcolor": "white",
             "startlinecolor": "#2a3f5f"
            },
            "type": "carpet"
           }
          ],
          "choropleth": [
           {
            "colorbar": {
             "outlinewidth": 0,
             "ticks": ""
            },
            "type": "choropleth"
           }
          ],
          "contour": [
           {
            "colorbar": {
             "outlinewidth": 0,
             "ticks": ""
            },
            "colorscale": [
             [
              0,
              "#0d0887"
             ],
             [
              0.1111111111111111,
              "#46039f"
             ],
             [
              0.2222222222222222,
              "#7201a8"
             ],
             [
              0.3333333333333333,
              "#9c179e"
             ],
             [
              0.4444444444444444,
              "#bd3786"
             ],
             [
              0.5555555555555556,
              "#d8576b"
             ],
             [
              0.6666666666666666,
              "#ed7953"
             ],
             [
              0.7777777777777778,
              "#fb9f3a"
             ],
             [
              0.8888888888888888,
              "#fdca26"
             ],
             [
              1,
              "#f0f921"
             ]
            ],
            "type": "contour"
           }
          ],
          "contourcarpet": [
           {
            "colorbar": {
             "outlinewidth": 0,
             "ticks": ""
            },
            "type": "contourcarpet"
           }
          ],
          "heatmap": [
           {
            "colorbar": {
             "outlinewidth": 0,
             "ticks": ""
            },
            "colorscale": [
             [
              0,
              "#0d0887"
             ],
             [
              0.1111111111111111,
              "#46039f"
             ],
             [
              0.2222222222222222,
              "#7201a8"
             ],
             [
              0.3333333333333333,
              "#9c179e"
             ],
             [
              0.4444444444444444,
              "#bd3786"
             ],
             [
              0.5555555555555556,
              "#d8576b"
             ],
             [
              0.6666666666666666,
              "#ed7953"
             ],
             [
              0.7777777777777778,
              "#fb9f3a"
             ],
             [
              0.8888888888888888,
              "#fdca26"
             ],
             [
              1,
              "#f0f921"
             ]
            ],
            "type": "heatmap"
           }
          ],
          "heatmapgl": [
           {
            "colorbar": {
             "outlinewidth": 0,
             "ticks": ""
            },
            "colorscale": [
             [
              0,
              "#0d0887"
             ],
             [
              0.1111111111111111,
              "#46039f"
             ],
             [
              0.2222222222222222,
              "#7201a8"
             ],
             [
              0.3333333333333333,
              "#9c179e"
             ],
             [
              0.4444444444444444,
              "#bd3786"
             ],
             [
              0.5555555555555556,
              "#d8576b"
             ],
             [
              0.6666666666666666,
              "#ed7953"
             ],
             [
              0.7777777777777778,
              "#fb9f3a"
             ],
             [
              0.8888888888888888,
              "#fdca26"
             ],
             [
              1,
              "#f0f921"
             ]
            ],
            "type": "heatmapgl"
           }
          ],
          "histogram": [
           {
            "marker": {
             "pattern": {
              "fillmode": "overlay",
              "size": 10,
              "solidity": 0.2
             }
            },
            "type": "histogram"
           }
          ],
          "histogram2d": [
           {
            "colorbar": {
             "outlinewidth": 0,
             "ticks": ""
            },
            "colorscale": [
             [
              0,
              "#0d0887"
             ],
             [
              0.1111111111111111,
              "#46039f"
             ],
             [
              0.2222222222222222,
              "#7201a8"
             ],
             [
              0.3333333333333333,
              "#9c179e"
             ],
             [
              0.4444444444444444,
              "#bd3786"
             ],
             [
              0.5555555555555556,
              "#d8576b"
             ],
             [
              0.6666666666666666,
              "#ed7953"
             ],
             [
              0.7777777777777778,
              "#fb9f3a"
             ],
             [
              0.8888888888888888,
              "#fdca26"
             ],
             [
              1,
              "#f0f921"
             ]
            ],
            "type": "histogram2d"
           }
          ],
          "histogram2dcontour": [
           {
            "colorbar": {
             "outlinewidth": 0,
             "ticks": ""
            },
            "colorscale": [
             [
              0,
              "#0d0887"
             ],
             [
              0.1111111111111111,
              "#46039f"
             ],
             [
              0.2222222222222222,
              "#7201a8"
             ],
             [
              0.3333333333333333,
              "#9c179e"
             ],
             [
              0.4444444444444444,
              "#bd3786"
             ],
             [
              0.5555555555555556,
              "#d8576b"
             ],
             [
              0.6666666666666666,
              "#ed7953"
             ],
             [
              0.7777777777777778,
              "#fb9f3a"
             ],
             [
              0.8888888888888888,
              "#fdca26"
             ],
             [
              1,
              "#f0f921"
             ]
            ],
            "type": "histogram2dcontour"
           }
          ],
          "mesh3d": [
           {
            "colorbar": {
             "outlinewidth": 0,
             "ticks": ""
            },
            "type": "mesh3d"
           }
          ],
          "parcoords": [
           {
            "line": {
             "colorbar": {
              "outlinewidth": 0,
              "ticks": ""
             }
            },
            "type": "parcoords"
           }
          ],
          "pie": [
           {
            "automargin": true,
            "type": "pie"
           }
          ],
          "scatter": [
           {
            "fillpattern": {
             "fillmode": "overlay",
             "size": 10,
             "solidity": 0.2
            },
            "type": "scatter"
           }
          ],
          "scatter3d": [
           {
            "line": {
             "colorbar": {
              "outlinewidth": 0,
              "ticks": ""
             }
            },
            "marker": {
             "colorbar": {
              "outlinewidth": 0,
              "ticks": ""
             }
            },
            "type": "scatter3d"
           }
          ],
          "scattercarpet": [
           {
            "marker": {
             "colorbar": {
              "outlinewidth": 0,
              "ticks": ""
             }
            },
            "type": "scattercarpet"
           }
          ],
          "scattergeo": [
           {
            "marker": {
             "colorbar": {
              "outlinewidth": 0,
              "ticks": ""
             }
            },
            "type": "scattergeo"
           }
          ],
          "scattergl": [
           {
            "marker": {
             "colorbar": {
              "outlinewidth": 0,
              "ticks": ""
             }
            },
            "type": "scattergl"
           }
          ],
          "scattermapbox": [
           {
            "marker": {
             "colorbar": {
              "outlinewidth": 0,
              "ticks": ""
             }
            },
            "type": "scattermapbox"
           }
          ],
          "scatterpolar": [
           {
            "marker": {
             "colorbar": {
              "outlinewidth": 0,
              "ticks": ""
             }
            },
            "type": "scatterpolar"
           }
          ],
          "scatterpolargl": [
           {
            "marker": {
             "colorbar": {
              "outlinewidth": 0,
              "ticks": ""
             }
            },
            "type": "scatterpolargl"
           }
          ],
          "scatterternary": [
           {
            "marker": {
             "colorbar": {
              "outlinewidth": 0,
              "ticks": ""
             }
            },
            "type": "scatterternary"
           }
          ],
          "surface": [
           {
            "colorbar": {
             "outlinewidth": 0,
             "ticks": ""
            },
            "colorscale": [
             [
              0,
              "#0d0887"
             ],
             [
              0.1111111111111111,
              "#46039f"
             ],
             [
              0.2222222222222222,
              "#7201a8"
             ],
             [
              0.3333333333333333,
              "#9c179e"
             ],
             [
              0.4444444444444444,
              "#bd3786"
             ],
             [
              0.5555555555555556,
              "#d8576b"
             ],
             [
              0.6666666666666666,
              "#ed7953"
             ],
             [
              0.7777777777777778,
              "#fb9f3a"
             ],
             [
              0.8888888888888888,
              "#fdca26"
             ],
             [
              1,
              "#f0f921"
             ]
            ],
            "type": "surface"
           }
          ],
          "table": [
           {
            "cells": {
             "fill": {
              "color": "#EBF0F8"
             },
             "line": {
              "color": "white"
             }
            },
            "header": {
             "fill": {
              "color": "#C8D4E3"
             },
             "line": {
              "color": "white"
             }
            },
            "type": "table"
           }
          ]
         },
         "layout": {
          "annotationdefaults": {
           "arrowcolor": "#2a3f5f",
           "arrowhead": 0,
           "arrowwidth": 1
          },
          "autotypenumbers": "strict",
          "coloraxis": {
           "colorbar": {
            "outlinewidth": 0,
            "ticks": ""
           }
          },
          "colorscale": {
           "diverging": [
            [
             0,
             "#8e0152"
            ],
            [
             0.1,
             "#c51b7d"
            ],
            [
             0.2,
             "#de77ae"
            ],
            [
             0.3,
             "#f1b6da"
            ],
            [
             0.4,
             "#fde0ef"
            ],
            [
             0.5,
             "#f7f7f7"
            ],
            [
             0.6,
             "#e6f5d0"
            ],
            [
             0.7,
             "#b8e186"
            ],
            [
             0.8,
             "#7fbc41"
            ],
            [
             0.9,
             "#4d9221"
            ],
            [
             1,
             "#276419"
            ]
           ],
           "sequential": [
            [
             0,
             "#0d0887"
            ],
            [
             0.1111111111111111,
             "#46039f"
            ],
            [
             0.2222222222222222,
             "#7201a8"
            ],
            [
             0.3333333333333333,
             "#9c179e"
            ],
            [
             0.4444444444444444,
             "#bd3786"
            ],
            [
             0.5555555555555556,
             "#d8576b"
            ],
            [
             0.6666666666666666,
             "#ed7953"
            ],
            [
             0.7777777777777778,
             "#fb9f3a"
            ],
            [
             0.8888888888888888,
             "#fdca26"
            ],
            [
             1,
             "#f0f921"
            ]
           ],
           "sequentialminus": [
            [
             0,
             "#0d0887"
            ],
            [
             0.1111111111111111,
             "#46039f"
            ],
            [
             0.2222222222222222,
             "#7201a8"
            ],
            [
             0.3333333333333333,
             "#9c179e"
            ],
            [
             0.4444444444444444,
             "#bd3786"
            ],
            [
             0.5555555555555556,
             "#d8576b"
            ],
            [
             0.6666666666666666,
             "#ed7953"
            ],
            [
             0.7777777777777778,
             "#fb9f3a"
            ],
            [
             0.8888888888888888,
             "#fdca26"
            ],
            [
             1,
             "#f0f921"
            ]
           ]
          },
          "colorway": [
           "#636efa",
           "#EF553B",
           "#00cc96",
           "#ab63fa",
           "#FFA15A",
           "#19d3f3",
           "#FF6692",
           "#B6E880",
           "#FF97FF",
           "#FECB52"
          ],
          "font": {
           "color": "#2a3f5f"
          },
          "geo": {
           "bgcolor": "white",
           "lakecolor": "white",
           "landcolor": "#E5ECF6",
           "showlakes": true,
           "showland": true,
           "subunitcolor": "white"
          },
          "hoverlabel": {
           "align": "left"
          },
          "hovermode": "closest",
          "mapbox": {
           "style": "light"
          },
          "paper_bgcolor": "white",
          "plot_bgcolor": "#E5ECF6",
          "polar": {
           "angularaxis": {
            "gridcolor": "white",
            "linecolor": "white",
            "ticks": ""
           },
           "bgcolor": "#E5ECF6",
           "radialaxis": {
            "gridcolor": "white",
            "linecolor": "white",
            "ticks": ""
           }
          },
          "scene": {
           "xaxis": {
            "backgroundcolor": "#E5ECF6",
            "gridcolor": "white",
            "gridwidth": 2,
            "linecolor": "white",
            "showbackground": true,
            "ticks": "",
            "zerolinecolor": "white"
           },
           "yaxis": {
            "backgroundcolor": "#E5ECF6",
            "gridcolor": "white",
            "gridwidth": 2,
            "linecolor": "white",
            "showbackground": true,
            "ticks": "",
            "zerolinecolor": "white"
           },
           "zaxis": {
            "backgroundcolor": "#E5ECF6",
            "gridcolor": "white",
            "gridwidth": 2,
            "linecolor": "white",
            "showbackground": true,
            "ticks": "",
            "zerolinecolor": "white"
           }
          },
          "shapedefaults": {
           "line": {
            "color": "#2a3f5f"
           }
          },
          "ternary": {
           "aaxis": {
            "gridcolor": "white",
            "linecolor": "white",
            "ticks": ""
           },
           "baxis": {
            "gridcolor": "white",
            "linecolor": "white",
            "ticks": ""
           },
           "bgcolor": "#E5ECF6",
           "caxis": {
            "gridcolor": "white",
            "linecolor": "white",
            "ticks": ""
           }
          },
          "title": {
           "x": 0.05
          },
          "xaxis": {
           "automargin": true,
           "gridcolor": "white",
           "linecolor": "white",
           "ticks": "",
           "title": {
            "standoff": 15
           },
           "zerolinecolor": "white",
           "zerolinewidth": 2
          },
          "yaxis": {
           "automargin": true,
           "gridcolor": "white",
           "linecolor": "white",
           "ticks": "",
           "title": {
            "standoff": 15
           },
           "zerolinecolor": "white",
           "zerolinewidth": 2
          }
         }
        }
       }
      },
      "text/html": [
       "<div>                            <div id=\"1480ff47-633e-4133-af13-16b54d805b93\" class=\"plotly-graph-div\" style=\"height:525px; width:100%;\"></div>            <script type=\"text/javascript\">                require([\"plotly\"], function(Plotly) {                    window.PLOTLYENV=window.PLOTLYENV || {};                                    if (document.getElementById(\"1480ff47-633e-4133-af13-16b54d805b93\")) {                    Plotly.newPlot(                        \"1480ff47-633e-4133-af13-16b54d805b93\",                        [{\"branchvalues\":\"total\",\"customdata\":[[2.8,\"Teknoloji\",25.6,10.1,1.65,20.94,\"green\"],[3.98,\"Perakande - Ticaret\",9.5,3.0,1.67,10.71,\"green\"],[1.64,\"Perakande - Ticaret\",1.1,0.5,1.83,4.8,\"indianred\"],[2.11,\"Ka\\u011f\\u0131t \\u00dcr\\u00fcnleri\",null,5.6,0.63,3.19,\"indianred\"],[5.67,\"Elektrik \\u00dcretim\",18.3,3.5,3.44,5.5,\"indianred\"],[2.36,\"Dayan\\u0131kl\\u0131 T\\u00fcketim\",3.1,0.9,15.15,18.03,\"indianred\"],[-1.28,\"Tar\\u0131m Kimyasallar\\u0131\",null,14.0,18.8,21.15,\"indianred\"],[0.83,\"G\\u0131da\",18.4,4.9,0.76,3.02,\"indianred\"],[9.98,\"Arac\\u0131 Kurumlar\",4.9,3.5,0.96,3.7,\"indianred\"],[4.02,\"Tekstil Entegre\",9.4,4.9,39.49,42.25,\"indianred\"],[1.56,\"Holdingler\",3.1,0.9,15.17,17.31,\"indianred\"],[8.94,\"Elektrik Enerji \\u00dcrt.Te\\u00e7h/Tesis Kurulum\",29.6,8.2,4.83,7.8,\"indianred\"],[3.65,\"Elektrik Enerji \\u00dcrt.Te\\u00e7h/Tesis Kurulum\",30.7,10.0,5.87,8.48,\"indianred\"],[0.5,\"GYO\",3.7,1.8,8.41,11.21,\"indianred\"],[6.69,\"Savunma\",39.5,18.3,3.62,6.5,\"indianred\"],[-2.37,\"Perakande - Ticaret\",7.6,4.5,10.75,13.3,\"indianred\"],[-0.55,\"End\\u00fcstriyel Tekstil\",26.8,6.7,8.03,12.49,\"lightgreen\"],[4.45,\"GYO\",2.3,0.6,0.32,5.55,\"lightgreen\"],[1.39,\"Holdingler\",null,1.7,2.69,6.86,\"lightgreen\"],[5.73,\"Ula\\u015ft\\u0131rma-Lojistik\",36.7,6.6,38.38,44.09,\"lightgreen\"],[9.97,\"Tar\\u0131m Kimyasallar\\u0131\",null,10.3,0.19,3.52,\"lightpink\"],[4.55,\"Seramik\",19.5,6.7,4.23,8.19,\"lightpink\"],[10.0,\"Kimyasal \\u00dcr\\u00fcn\",null,21.5,0.2,3.4,\"lightpink\"],[3.59,\"GYO\",3.1,1.4,0.14,3.63,\"lightpink\"],[6.32,\"Medya\",null,10.9,36.67,40.5,\"lightpink\"],[1.33,\"Bankac\\u0131l\\u0131k\",2.6,1.0,54.17,57.27,\"lightpink\"],[3.62,\"Teknoloji\",33.6,16.7,2.61,6.51,\"lightpink\"],[4.84,\"G\\u0131da\",4.8,1.7,6.74,12.94,\"lime\"],[-2.41,\"G\\u0131da\",18.9,12.6,0.1,6.22,\"lime\"],[2.25,\"G\\u0131da\",18.4,3.4,69.61,70.83,\"red\"],[2.41,\"Sa\\u011fl\\u0131k ve \\u0130la\\u00e7\",11.8,4.4,17.24,18.81,\"red\"],[-1.11,\"Petrol\",5.2,3.8,41.82,43.22,\"red\"],[-0.17,\"Havayollar\\u0131 ve Hizm.\",4.0,0.9,33.62,35.05,\"red\"],[-1.47,\"Holdingler\",2.3,0.9,48.36,49.92,\"red\"],[3.17,\"\\u00c7imento\",14.5,5.2,18.31,19.64,\"red\"],[2.23,\"Elektrik \\u00dcretim\",2.4,1.5,12.7,14.3,\"red\"],[3.36,\"Bankac\\u0131l\\u0131k\",2.6,0.9,39.16,40.22,\"red\"],[-0.21,\"\\u00c7imento\",null,null,56.37,57.73,\"red\"],[2.61,\"Me\\u015frubat / \\u0130\\u00e7ecek\",10.1,2.1,57.51,59.04,\"red\"],[2.69,\"Bankac\\u0131l\\u0131k\",2.6,0.8,16.13,17.4,\"red\"],[1.58,\"Turizm\",null,8.5,4.21,6.06,\"red\"],[3.24,\"Holdingler\",5.3,0.9,9.28,10.36,\"red\"],[-1.53,\"Otomotiv Par\\u00e7as\\u0131\",null,null,26.01,27.16,\"red\"],[8.66,\"Holdingler\",1.6,1.6,2.5,4.05,\"red\"],[1.25,\"Perakande - Ticaret\",8.8,4.8,3.71,5.64,\"red\"],[3.84,\"\\u00c7imento\",10.6,5.2,6.03,7.33,\"red\"],[5.49,\"Teknoloji\",14.3,5.2,36.63,38.04,\"red\"],[1.81,\"Demir-\\u00c7elik Temel\",21.5,4.0,12.4,13.74,\"red\"],[3.0,\"Bilgisayar Toptanc\\u0131l\\u0131\\u011f\\u0131\",null,3.6,3.26,4.87,\"red\"],[2.07,\"Elektrik Enerji \\u00dcrt.Te\\u00e7h/Tesis Kurulum\",20.8,7.4,8.2,9.44,\"red\"],[1.48,\"\\u00c7imento\",5.1,2.3,3.15,4.69,\"red\"],[5.58,\"Turizm\",15.0,3.9,2.02,3.41,\"red\"],[2.06,\"Bilgisayar Toptanc\\u0131l\\u0131\\u011f\\u0131\",null,5.4,23.5,24.95,\"red\"],[0.06,\"Elektrik \\u00dcretim\",8.8,2.5,5.32,6.73,\"red\"],[-0.54,\"\\u0130n\\u015faat- Taahh\\u00fct\",34.2,21.2,2.04,3.97,\"red\"],[7.39,\"Seramik\",12.2,6.5,1.34,3.0,\"red\"],[5.63,\"Me\\u015frubat / \\u0130\\u00e7ecek\",15.9,4.0,79.52,81.07,\"red\"],[1.61,\"Bankac\\u0131l\\u0131k\",2.5,1.0,36.3,38.21,\"red\"],[\"(?)\",\"(?)\",\"(?)\",\"(?)\",\"(?)\",\"(?)\",\"green\"],[\"(?)\",\"(?)\",\"(?)\",\"(?)\",\"(?)\",\"(?)\",\"indianred\"],[\"(?)\",\"(?)\",\"(?)\",\"(?)\",\"(?)\",\"(?)\",\"lightgreen\"],[\"(?)\",\"(?)\",\"(?)\",\"(?)\",\"(?)\",\"(?)\",\"lightpink\"],[\"(?)\",\"G\\u0131da\",\"(?)\",\"(?)\",\"(?)\",\"(?)\",\"lime\"],[\"(?)\",\"(?)\",\"(?)\",\"(?)\",\"(?)\",\"(?)\",\"red\"],[\"(?)\",\"(?)\",\"(?)\",\"(?)\",\"(?)\",\"(?)\",\"(?)\"]],\"domain\":{\"x\":[0.0,1.0],\"y\":[0.0,1.0]},\"hovertemplate\":\"Hisse: %{label}<br><b>Piyasa De\\u011feri($): %{value}<br><b>Son G\\u00fcn Getiri: %{customdata[0]}<br><b>Sekt\\u00f6r:%{customdata[1]}<br><b>F/K: %{customdata[2]}<br><b>PD/DD: %{customdata[3]}<br><b>TAKAS 3W \\u00d6NCES\\u0130: %{customdata[4]}<br><b>TAKAS SON: %{customdata[5]}\",\"ids\":[\"BIST/green/VBTYZ\",\"BIST/green/GRTRK\",\"BIST/indianred/ADESE\",\"BIST/indianred/KAPLM\",\"BIST/indianred/IZENR\",\"BIST/indianred/IHEVA\",\"BIST/indianred/HEKTS\",\"BIST/indianred/OFSYM\",\"BIST/indianred/GEDIK\",\"BIST/indianred/MAVI\",\"BIST/indianred/DOHOL\",\"BIST/indianred/CWENE\",\"BIST/indianred/EUPWR\",\"BIST/indianred/VRGYO\",\"BIST/indianred/SDTTR\",\"BIST/indianred/TKNSA\",\"BIST/lightgreen/SASA\",\"BIST/lightgreen/KZGYO\",\"BIST/lightgreen/EUHOL\",\"BIST/lightgreen/DOCO\",\"BIST/lightpink/TARKM\",\"BIST/lightpink/KLSER\",\"BIST/lightpink/ONCSM\",\"BIST/lightpink/MHRGY\",\"BIST/lightpink/IHAAS\",\"BIST/lightpink/AKBNK\",\"BIST/lightpink/MIATK\",\"BIST/lime/KAYSE\",\"BIST/lime/TABGD\",\"BIST/red/ULKER\",\"BIST/red/SELEC\",\"BIST/red/TUPRS\",\"BIST/red/THYAO\",\"BIST/red/SAHOL\",\"BIST/red/NUHCM\",\"BIST/red/ODAS\",\"BIST/red/ISCTR\",\"BIST/red/KONYA\",\"BIST/red/AEFES\",\"BIST/red/ALBRK\",\"BIST/red/AYCES\",\"BIST/red/BERA\",\"BIST/red/BFREN\",\"BIST/red/BINHO\",\"BIST/red/BIZIM\",\"BIST/red/BOBET\",\"BIST/red/LOGO\",\"BIST/red/BRSAN\",\"BIST/red/DGATE\",\"BIST/red/GESAN\",\"BIST/red/GOLTS\",\"BIST/red/GRSEL\",\"BIST/red/HTTBT\",\"BIST/red/IPEKE\",\"BIST/red/YEOTK\",\"BIST/red/KLKIM\",\"BIST/red/CCOLA\",\"BIST/red/YKBNK\",\"BIST/green\",\"BIST/indianred\",\"BIST/lightgreen\",\"BIST/lightpink\",\"BIST/lime\",\"BIST/red\",\"BIST\"],\"labels\":[\"VBTYZ\",\"GRTRK\",\"ADESE\",\"KAPLM\",\"IZENR\",\"IHEVA\",\"HEKTS\",\"OFSYM\",\"GEDIK\",\"MAVI\",\"DOHOL\",\"CWENE\",\"EUPWR\",\"VRGYO\",\"SDTTR\",\"TKNSA\",\"SASA\",\"KZGYO\",\"EUHOL\",\"DOCO\",\"TARKM\",\"KLSER\",\"ONCSM\",\"MHRGY\",\"IHAAS\",\"AKBNK\",\"MIATK\",\"KAYSE\",\"TABGD\",\"ULKER\",\"SELEC\",\"TUPRS\",\"THYAO\",\"SAHOL\",\"NUHCM\",\"ODAS\",\"ISCTR\",\"KONYA\",\"AEFES\",\"ALBRK\",\"AYCES\",\"BERA\",\"BFREN\",\"BINHO\",\"BIZIM\",\"BOBET\",\"LOGO\",\"BRSAN\",\"DGATE\",\"GESAN\",\"GOLTS\",\"GRSEL\",\"HTTBT\",\"IPEKE\",\"YEOTK\",\"KLKIM\",\"CCOLA\",\"YKBNK\",\"green\",\"indianred\",\"lightgreen\",\"lightpink\",\"lime\",\"red\",\"BIST\"],\"marker\":{\"colors\":[\"green\",\"green\",\"indianred\",\"indianred\",\"indianred\",\"indianred\",\"indianred\",\"indianred\",\"indianred\",\"indianred\",\"indianred\",\"indianred\",\"indianred\",\"indianred\",\"indianred\",\"indianred\",\"lightgreen\",\"lightgreen\",\"lightgreen\",\"lightgreen\",\"lightpink\",\"lightpink\",\"lightpink\",\"lightpink\",\"lightpink\",\"lightpink\",\"lightpink\",\"lime\",\"lime\",\"red\",\"red\",\"red\",\"red\",\"red\",\"red\",\"red\",\"red\",\"red\",\"red\",\"red\",\"red\",\"red\",\"red\",\"red\",\"red\",\"red\",\"red\",\"red\",\"red\",\"red\",\"red\",\"red\",\"red\",\"red\",\"red\",\"red\",\"red\",\"red\",\"green\",\"indianred\",\"lightgreen\",\"lightpink\",\"lime\",\"red\",\"#ADD8E6\"]},\"name\":\"\",\"parents\":[\"BIST/green\",\"BIST/green\",\"BIST/indianred\",\"BIST/indianred\",\"BIST/indianred\",\"BIST/indianred\",\"BIST/indianred\",\"BIST/indianred\",\"BIST/indianred\",\"BIST/indianred\",\"BIST/indianred\",\"BIST/indianred\",\"BIST/indianred\",\"BIST/indianred\",\"BIST/indianred\",\"BIST/indianred\",\"BIST/lightgreen\",\"BIST/lightgreen\",\"BIST/lightgreen\",\"BIST/lightgreen\",\"BIST/lightpink\",\"BIST/lightpink\",\"BIST/lightpink\",\"BIST/lightpink\",\"BIST/lightpink\",\"BIST/lightpink\",\"BIST/lightpink\",\"BIST/lime\",\"BIST/lime\",\"BIST/red\",\"BIST/red\",\"BIST/red\",\"BIST/red\",\"BIST/red\",\"BIST/red\",\"BIST/red\",\"BIST/red\",\"BIST/red\",\"BIST/red\",\"BIST/red\",\"BIST/red\",\"BIST/red\",\"BIST/red\",\"BIST/red\",\"BIST/red\",\"BIST/red\",\"BIST/red\",\"BIST/red\",\"BIST/red\",\"BIST/red\",\"BIST/red\",\"BIST/red\",\"BIST/red\",\"BIST/red\",\"BIST/red\",\"BIST/red\",\"BIST/red\",\"BIST/red\",\"BIST\",\"BIST\",\"BIST\",\"BIST\",\"BIST\",\"BIST\",\"\"],\"values\":[19.290000000000003,9.040000000000001,2.9699999999999998,2.56,2.06,2.880000000000001,2.349999999999998,2.26,2.74,2.759999999999998,2.139999999999999,2.9699999999999998,2.6100000000000003,2.8000000000000007,2.88,2.5500000000000007,4.460000000000001,5.2299999999999995,4.17,5.710000000000001,3.33,3.959999999999999,3.1999999999999997,3.4899999999999998,3.8299999999999983,3.1000000000000014,3.9,6.199999999999999,6.12,1.2199999999999989,1.5700000000000003,1.3999999999999986,1.4299999999999997,1.5600000000000023,1.3300000000000018,1.6000000000000014,1.0600000000000023,1.3599999999999994,1.5300000000000011,1.2699999999999996,1.8499999999999996,1.08,1.1499999999999986,1.5499999999999998,1.9299999999999997,1.2999999999999998,1.4099999999999966,1.3399999999999999,1.6100000000000003,1.2400000000000002,1.5400000000000005,1.3900000000000001,1.4499999999999993,1.4100000000000001,1.9300000000000002,1.66,1.5499999999999972,1.9100000000000037,28.330000000000005,36.529999999999994,19.57,24.81,12.32,42.63,164.19],\"type\":\"treemap\"}],                        {\"template\":{\"data\":{\"histogram2dcontour\":[{\"type\":\"histogram2dcontour\",\"colorbar\":{\"outlinewidth\":0,\"ticks\":\"\"},\"colorscale\":[[0.0,\"#0d0887\"],[0.1111111111111111,\"#46039f\"],[0.2222222222222222,\"#7201a8\"],[0.3333333333333333,\"#9c179e\"],[0.4444444444444444,\"#bd3786\"],[0.5555555555555556,\"#d8576b\"],[0.6666666666666666,\"#ed7953\"],[0.7777777777777778,\"#fb9f3a\"],[0.8888888888888888,\"#fdca26\"],[1.0,\"#f0f921\"]]}],\"choropleth\":[{\"type\":\"choropleth\",\"colorbar\":{\"outlinewidth\":0,\"ticks\":\"\"}}],\"histogram2d\":[{\"type\":\"histogram2d\",\"colorbar\":{\"outlinewidth\":0,\"ticks\":\"\"},\"colorscale\":[[0.0,\"#0d0887\"],[0.1111111111111111,\"#46039f\"],[0.2222222222222222,\"#7201a8\"],[0.3333333333333333,\"#9c179e\"],[0.4444444444444444,\"#bd3786\"],[0.5555555555555556,\"#d8576b\"],[0.6666666666666666,\"#ed7953\"],[0.7777777777777778,\"#fb9f3a\"],[0.8888888888888888,\"#fdca26\"],[1.0,\"#f0f921\"]]}],\"heatmap\":[{\"type\":\"heatmap\",\"colorbar\":{\"outlinewidth\":0,\"ticks\":\"\"},\"colorscale\":[[0.0,\"#0d0887\"],[0.1111111111111111,\"#46039f\"],[0.2222222222222222,\"#7201a8\"],[0.3333333333333333,\"#9c179e\"],[0.4444444444444444,\"#bd3786\"],[0.5555555555555556,\"#d8576b\"],[0.6666666666666666,\"#ed7953\"],[0.7777777777777778,\"#fb9f3a\"],[0.8888888888888888,\"#fdca26\"],[1.0,\"#f0f921\"]]}],\"heatmapgl\":[{\"type\":\"heatmapgl\",\"colorbar\":{\"outlinewidth\":0,\"ticks\":\"\"},\"colorscale\":[[0.0,\"#0d0887\"],[0.1111111111111111,\"#46039f\"],[0.2222222222222222,\"#7201a8\"],[0.3333333333333333,\"#9c179e\"],[0.4444444444444444,\"#bd3786\"],[0.5555555555555556,\"#d8576b\"],[0.6666666666666666,\"#ed7953\"],[0.7777777777777778,\"#fb9f3a\"],[0.8888888888888888,\"#fdca26\"],[1.0,\"#f0f921\"]]}],\"contourcarpet\":[{\"type\":\"contourcarpet\",\"colorbar\":{\"outlinewidth\":0,\"ticks\":\"\"}}],\"contour\":[{\"type\":\"contour\",\"colorbar\":{\"outlinewidth\":0,\"ticks\":\"\"},\"colorscale\":[[0.0,\"#0d0887\"],[0.1111111111111111,\"#46039f\"],[0.2222222222222222,\"#7201a8\"],[0.3333333333333333,\"#9c179e\"],[0.4444444444444444,\"#bd3786\"],[0.5555555555555556,\"#d8576b\"],[0.6666666666666666,\"#ed7953\"],[0.7777777777777778,\"#fb9f3a\"],[0.8888888888888888,\"#fdca26\"],[1.0,\"#f0f921\"]]}],\"surface\":[{\"type\":\"surface\",\"colorbar\":{\"outlinewidth\":0,\"ticks\":\"\"},\"colorscale\":[[0.0,\"#0d0887\"],[0.1111111111111111,\"#46039f\"],[0.2222222222222222,\"#7201a8\"],[0.3333333333333333,\"#9c179e\"],[0.4444444444444444,\"#bd3786\"],[0.5555555555555556,\"#d8576b\"],[0.6666666666666666,\"#ed7953\"],[0.7777777777777778,\"#fb9f3a\"],[0.8888888888888888,\"#fdca26\"],[1.0,\"#f0f921\"]]}],\"mesh3d\":[{\"type\":\"mesh3d\",\"colorbar\":{\"outlinewidth\":0,\"ticks\":\"\"}}],\"scatter\":[{\"fillpattern\":{\"fillmode\":\"overlay\",\"size\":10,\"solidity\":0.2},\"type\":\"scatter\"}],\"parcoords\":[{\"type\":\"parcoords\",\"line\":{\"colorbar\":{\"outlinewidth\":0,\"ticks\":\"\"}}}],\"scatterpolargl\":[{\"type\":\"scatterpolargl\",\"marker\":{\"colorbar\":{\"outlinewidth\":0,\"ticks\":\"\"}}}],\"bar\":[{\"error_x\":{\"color\":\"#2a3f5f\"},\"error_y\":{\"color\":\"#2a3f5f\"},\"marker\":{\"line\":{\"color\":\"#E5ECF6\",\"width\":0.5},\"pattern\":{\"fillmode\":\"overlay\",\"size\":10,\"solidity\":0.2}},\"type\":\"bar\"}],\"scattergeo\":[{\"type\":\"scattergeo\",\"marker\":{\"colorbar\":{\"outlinewidth\":0,\"ticks\":\"\"}}}],\"scatterpolar\":[{\"type\":\"scatterpolar\",\"marker\":{\"colorbar\":{\"outlinewidth\":0,\"ticks\":\"\"}}}],\"histogram\":[{\"marker\":{\"pattern\":{\"fillmode\":\"overlay\",\"size\":10,\"solidity\":0.2}},\"type\":\"histogram\"}],\"scattergl\":[{\"type\":\"scattergl\",\"marker\":{\"colorbar\":{\"outlinewidth\":0,\"ticks\":\"\"}}}],\"scatter3d\":[{\"type\":\"scatter3d\",\"line\":{\"colorbar\":{\"outlinewidth\":0,\"ticks\":\"\"}},\"marker\":{\"colorbar\":{\"outlinewidth\":0,\"ticks\":\"\"}}}],\"scattermapbox\":[{\"type\":\"scattermapbox\",\"marker\":{\"colorbar\":{\"outlinewidth\":0,\"ticks\":\"\"}}}],\"scatterternary\":[{\"type\":\"scatterternary\",\"marker\":{\"colorbar\":{\"outlinewidth\":0,\"ticks\":\"\"}}}],\"scattercarpet\":[{\"type\":\"scattercarpet\",\"marker\":{\"colorbar\":{\"outlinewidth\":0,\"ticks\":\"\"}}}],\"carpet\":[{\"aaxis\":{\"endlinecolor\":\"#2a3f5f\",\"gridcolor\":\"white\",\"linecolor\":\"white\",\"minorgridcolor\":\"white\",\"startlinecolor\":\"#2a3f5f\"},\"baxis\":{\"endlinecolor\":\"#2a3f5f\",\"gridcolor\":\"white\",\"linecolor\":\"white\",\"minorgridcolor\":\"white\",\"startlinecolor\":\"#2a3f5f\"},\"type\":\"carpet\"}],\"table\":[{\"cells\":{\"fill\":{\"color\":\"#EBF0F8\"},\"line\":{\"color\":\"white\"}},\"header\":{\"fill\":{\"color\":\"#C8D4E3\"},\"line\":{\"color\":\"white\"}},\"type\":\"table\"}],\"barpolar\":[{\"marker\":{\"line\":{\"color\":\"#E5ECF6\",\"width\":0.5},\"pattern\":{\"fillmode\":\"overlay\",\"size\":10,\"solidity\":0.2}},\"type\":\"barpolar\"}],\"pie\":[{\"automargin\":true,\"type\":\"pie\"}]},\"layout\":{\"autotypenumbers\":\"strict\",\"colorway\":[\"#636efa\",\"#EF553B\",\"#00cc96\",\"#ab63fa\",\"#FFA15A\",\"#19d3f3\",\"#FF6692\",\"#B6E880\",\"#FF97FF\",\"#FECB52\"],\"font\":{\"color\":\"#2a3f5f\"},\"hovermode\":\"closest\",\"hoverlabel\":{\"align\":\"left\"},\"paper_bgcolor\":\"white\",\"plot_bgcolor\":\"#E5ECF6\",\"polar\":{\"bgcolor\":\"#E5ECF6\",\"angularaxis\":{\"gridcolor\":\"white\",\"linecolor\":\"white\",\"ticks\":\"\"},\"radialaxis\":{\"gridcolor\":\"white\",\"linecolor\":\"white\",\"ticks\":\"\"}},\"ternary\":{\"bgcolor\":\"#E5ECF6\",\"aaxis\":{\"gridcolor\":\"white\",\"linecolor\":\"white\",\"ticks\":\"\"},\"baxis\":{\"gridcolor\":\"white\",\"linecolor\":\"white\",\"ticks\":\"\"},\"caxis\":{\"gridcolor\":\"white\",\"linecolor\":\"white\",\"ticks\":\"\"}},\"coloraxis\":{\"colorbar\":{\"outlinewidth\":0,\"ticks\":\"\"}},\"colorscale\":{\"sequential\":[[0.0,\"#0d0887\"],[0.1111111111111111,\"#46039f\"],[0.2222222222222222,\"#7201a8\"],[0.3333333333333333,\"#9c179e\"],[0.4444444444444444,\"#bd3786\"],[0.5555555555555556,\"#d8576b\"],[0.6666666666666666,\"#ed7953\"],[0.7777777777777778,\"#fb9f3a\"],[0.8888888888888888,\"#fdca26\"],[1.0,\"#f0f921\"]],\"sequentialminus\":[[0.0,\"#0d0887\"],[0.1111111111111111,\"#46039f\"],[0.2222222222222222,\"#7201a8\"],[0.3333333333333333,\"#9c179e\"],[0.4444444444444444,\"#bd3786\"],[0.5555555555555556,\"#d8576b\"],[0.6666666666666666,\"#ed7953\"],[0.7777777777777778,\"#fb9f3a\"],[0.8888888888888888,\"#fdca26\"],[1.0,\"#f0f921\"]],\"diverging\":[[0,\"#8e0152\"],[0.1,\"#c51b7d\"],[0.2,\"#de77ae\"],[0.3,\"#f1b6da\"],[0.4,\"#fde0ef\"],[0.5,\"#f7f7f7\"],[0.6,\"#e6f5d0\"],[0.7,\"#b8e186\"],[0.8,\"#7fbc41\"],[0.9,\"#4d9221\"],[1,\"#276419\"]]},\"xaxis\":{\"gridcolor\":\"white\",\"linecolor\":\"white\",\"ticks\":\"\",\"title\":{\"standoff\":15},\"zerolinecolor\":\"white\",\"automargin\":true,\"zerolinewidth\":2},\"yaxis\":{\"gridcolor\":\"white\",\"linecolor\":\"white\",\"ticks\":\"\",\"title\":{\"standoff\":15},\"zerolinecolor\":\"white\",\"automargin\":true,\"zerolinewidth\":2},\"scene\":{\"xaxis\":{\"backgroundcolor\":\"#E5ECF6\",\"gridcolor\":\"white\",\"linecolor\":\"white\",\"showbackground\":true,\"ticks\":\"\",\"zerolinecolor\":\"white\",\"gridwidth\":2},\"yaxis\":{\"backgroundcolor\":\"#E5ECF6\",\"gridcolor\":\"white\",\"linecolor\":\"white\",\"showbackground\":true,\"ticks\":\"\",\"zerolinecolor\":\"white\",\"gridwidth\":2},\"zaxis\":{\"backgroundcolor\":\"#E5ECF6\",\"gridcolor\":\"white\",\"linecolor\":\"white\",\"showbackground\":true,\"ticks\":\"\",\"zerolinecolor\":\"white\",\"gridwidth\":2}},\"shapedefaults\":{\"line\":{\"color\":\"#2a3f5f\"}},\"annotationdefaults\":{\"arrowcolor\":\"#2a3f5f\",\"arrowhead\":0,\"arrowwidth\":1},\"geo\":{\"bgcolor\":\"white\",\"landcolor\":\"#E5ECF6\",\"subunitcolor\":\"white\",\"showland\":true,\"showlakes\":true,\"lakecolor\":\"white\"},\"title\":{\"x\":0.05},\"mapbox\":{\"style\":\"light\"}}},\"legend\":{\"tracegroupgap\":0},\"margin\":{\"t\":60}},                        {\"responsive\": true}                    ).then(function(){\n",
       "                            \n",
       "var gd = document.getElementById('1480ff47-633e-4133-af13-16b54d805b93');\n",
       "var x = new MutationObserver(function (mutations, observer) {{\n",
       "        var display = window.getComputedStyle(gd).display;\n",
       "        if (!display || display === 'none') {{\n",
       "            console.log([gd, 'removed!']);\n",
       "            Plotly.purge(gd);\n",
       "            observer.disconnect();\n",
       "        }}\n",
       "}});\n",
       "\n",
       "// Listen for the removal of the full notebook cells\n",
       "var notebookContainer = gd.closest('#notebook-container');\n",
       "if (notebookContainer) {{\n",
       "    x.observe(notebookContainer, {childList: true});\n",
       "}}\n",
       "\n",
       "// Listen for the clearing of the current output cell\n",
       "var outputEl = gd.closest('.output');\n",
       "if (outputEl) {{\n",
       "    x.observe(outputEl, {childList: true});\n",
       "}}\n",
       "\n",
       "                        })                };                });            </script>        </div>"
      ]
     },
     "metadata": {},
     "output_type": "display_data"
    }
   ],
   "source": [
    "fig.update_traces(hovertemplate=\"<br><b>\".join([\"Hisse: %{label}\",\n",
    "                                                \"Piyasa Değeri($): %{value}\",\n",
    "                                                \"Son Gün Getiri: %{customdata[0]}\",\n",
    "                                                \"Sektör:%{customdata[1]}\",\n",
    "                                                \"F/K: %{customdata[2]}\",\n",
    "                                               \"PD/DD: %{customdata[3]}\",\n",
    "                                               \"TAKAS 3W ÖNCESİ: %{customdata[4]}\",\n",
    "                                               \"TAKAS SON: %{customdata[5]}\"]))"
   ]
  },
  {
   "cell_type": "code",
   "execution_count": 21,
   "id": "580d6263",
   "metadata": {},
   "outputs": [],
   "source": [
    "fig.data[0].texttemplate=\"<b>%{label}</b><br>%{customdata[0]} %\""
   ]
  },
  {
   "cell_type": "code",
   "execution_count": 22,
   "id": "4d757248",
   "metadata": {},
   "outputs": [
    {
     "data": {
      "text/plain": [
       "'grafik.html'"
      ]
     },
     "execution_count": 22,
     "metadata": {},
     "output_type": "execute_result"
    }
   ],
   "source": [
    "offline.plot(fig,filename=\"grafik.html\")"
   ]
  },
  {
   "cell_type": "code",
   "execution_count": null,
   "id": "82bde2a0",
   "metadata": {},
   "outputs": [],
   "source": [
    "df"
   ]
  },
  {
   "cell_type": "code",
   "execution_count": 34,
   "id": "064383f0",
   "metadata": {
    "scrolled": true
   },
   "outputs": [
    {
     "data": {
      "text/plain": [
       "[<matplotlib.lines.Line2D at 0x297acd582d0>]"
      ]
     },
     "execution_count": 34,
     "metadata": {},
     "output_type": "execute_result"
    },
    {
     "data": {
      "image/png": "[encoded data removed]",
      "text/plain": [
       "<Figure size 640x480 with 1 Axes>"
      ]
     },
     "metadata": {},
     "output_type": "display_data"
    }
   ],
   "source": [
    "import matplotlib.pyplot as plt\n",
    "plt.plot(takas.loc[\"ODAS\"])"
   ]
  },
  {
   "cell_type": "code",
   "execution_count": null,
   "id": "04153985",
   "metadata": {},
   "outputs": [],
   "source": []
  },
  {
   "cell_type": "code",
   "execution_count": null,
   "id": "df26930a",
   "metadata": {},
   "outputs": [],
   "source": []
  }
 ],
 "metadata": {
  "kernelspec": {
   "display_name": "Python 3 (ipykernel)",
   "language": "python",
   "name": "python3"
  },
  "language_info": {
   "codemirror_mode": {
    "name": "ipython",
    "version": 3
   },
   "file_extension": ".py",
   "mimetype": "text/x-python",
   "name": "python",
   "nbconvert_exporter": "python",
   "pygments_lexer": "ipython3",
   "version": "3.11.5"
  }
 },
 "nbformat": 4,
 "nbformat_minor": 5
}
