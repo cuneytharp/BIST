{
 "cells": [
  {
   "cell_type": "code",
   "execution_count": 1,
   "id": "66f23bae",
   "metadata": {},
   "outputs": [],
   "source": [
    "import pandas as pd\n",
    "import pandas_ta as ta\n",
    "from tvDatafeed import TvDatafeed,TvDatafeedLive,Interval"
   ]
  },
  {
   "cell_type": "code",
   "execution_count": 2,
   "id": "5b3a8e37",
   "metadata": {},
   "outputs": [
    {
     "name": "stderr",
     "output_type": "stream",
     "text": [
      "you are using nologin method, data you access may be limited\n"
     ]
    }
   ],
   "source": [
    "tv = TvDatafeed()\n",
    "ind_df = pd.DataFrame()"
   ]
  },
  {
   "cell_type": "code",
   "execution_count": 3,
   "id": "f1c7f4e9",
   "metadata": {},
   "outputs": [],
   "source": [
    "stock = \"EREGL\"\n",
    "exchange = \"BIST\"\n",
    "data = tv.get_hist(stock,exchange=exchange,interval=Interval.in_30_minute,n_bars=5000)"
   ]
  },
  {
   "cell_type": "code",
   "execution_count": 4,
   "id": "0e25b268",
   "metadata": {},
   "outputs": [],
   "source": [
    "high_ = data[\"high\"]\n",
    "low_ = data[\"low\"]\n",
    "open_ = data[\"open\"]\n",
    "close_ = data[\"close\"]\n",
    "volume_ =data[\"volume\"]"
   ]
  },
  {
   "cell_type": "code",
   "execution_count": 5,
   "id": "c877dbf2",
   "metadata": {},
   "outputs": [],
   "source": [
    "ind_df = pd.concat([ind_df,ta.adx(high=high_,low=low_,close=close_,length=14)],axis=1) #ADX \n",
    "ind_df = pd.concat([ind_df,pd.DataFrame(ta.atr(high=high_,low=low_,close=close_,length=14))],axis=1) #atr\n",
    "ind_df = pd.concat([ind_df,pd.DataFrame(ta.cci(high=high_,low=low_,close=close_))],axis=1) #atr\n",
    "ind_df = pd.concat([ind_df,pd.DataFrame(ta.donchian(high=high_,low=low_))],axis=1) #atr\n",
    "ind_df = pd.concat([ind_df,pd.DataFrame(ta.ema(close=close_,length=5))],axis=1) #atr\n",
    "ind_df = pd.concat([ind_df,pd.DataFrame(ta.ema(close=close_,length=8))],axis=1) #atr\n",
    "ind_df = pd.concat([ind_df,pd.DataFrame(ta.ema(close=close_,length=13))],axis=1) #atr\n",
    "ind_df = pd.concat([ind_df,pd.DataFrame(ta.hlc3(high=high_,low=low_,close=close_))],axis=1) #atr\n",
    "ind_df = pd.concat([ind_df,pd.DataFrame(ta.kama(close=close_))],axis=1) #atr\n",
    "ind_df = pd.concat([ind_df,pd.DataFrame(ta.linreg(close=close_))],axis=1) #atr\n",
    "ind_df = pd.concat([ind_df,pd.DataFrame(ta.macd(close=close_))],axis=1) #atr\n",
    "ind_df = pd.concat([ind_df,pd.DataFrame(ta.obv(volume=volume_,close=close_))],axis=1) #atr\n",
    "ind_df = pd.concat([ind_df,pd.DataFrame(ta.roc(close=close_))],axis=1) #atr\n",
    "ind_df = pd.concat([ind_df,pd.DataFrame(ta.rsi(close=close_))],axis=1) #atr\n",
    "ind_df = pd.concat([ind_df,pd.DataFrame(ta.stoch(high=high_,low=low_,close=close_))],axis=1) #atr\n",
    "ind_df = pd.concat([ind_df,pd.DataFrame(ta.supertrend(high=high_,low=low_,close=close_))],axis=1) #atr\n",
    "ind_df = pd.concat([ind_df,pd.DataFrame(ta.t3(close=close_))],axis=1) #atr\n",
    "ind_df = pd.concat([ind_df,pd.DataFrame(ta.willr(high=high_,low=low_,close=close_))],axis=1) #atr\n"
   ]
  },
  {
   "cell_type": "code",
   "execution_count": 6,
   "id": "77a0ca46",
   "metadata": {},
   "outputs": [],
   "source": [
    "# empty_dict = {}\n",
    "# for col in ind_df.columns:\n",
    "#     empty_dict.update({col:0})\n"
   ]
  },
  {
   "cell_type": "code",
   "execution_count": 7,
   "id": "758bd3f6",
   "metadata": {},
   "outputs": [],
   "source": [
    "# ind_df = pd.concat([pd.DataFrame(empty_dict,index=[0]),ind_df],axis=0)\n",
    "# ind_df"
   ]
  },
  {
   "cell_type": "code",
   "execution_count": 8,
   "id": "d5a03e32",
   "metadata": {},
   "outputs": [],
   "source": [
    "data.reset_index(inplace=True)"
   ]
  },
  {
   "cell_type": "code",
   "execution_count": 9,
   "id": "09967f99",
   "metadata": {},
   "outputs": [],
   "source": [
    "ind_df.reset_index(inplace=True)\n",
    "ind_df.rename(columns={\"datetime\":\"ind_datetime\"},inplace=True)"
   ]
  },
  {
   "cell_type": "code",
   "execution_count": 14,
   "id": "629bc237",
   "metadata": {},
   "outputs": [],
   "source": [
    "master_df = pd.concat([data,ind_df],axis=1)"
   ]
  },
  {
   "cell_type": "code",
   "execution_count": 20,
   "id": "b421fab3",
   "metadata": {},
   "outputs": [],
   "source": [
    "master_df[:3]\n",
    "master_df.set_index(\"datetime\",inplace=True)"
   ]
  },
  {
   "cell_type": "code",
   "execution_count": null,
   "id": "cd852f29",
   "metadata": {},
   "outputs": [],
   "source": []
  },
  {
   "cell_type": "code",
   "execution_count": 19,
   "id": "db2ac7a1",
   "metadata": {},
   "outputs": [],
   "source": [
    "import seaborn as sns"
   ]
  },
  {
   "cell_type": "code",
   "execution_count": 22,
   "id": "6e3adc3f",
   "metadata": {},
   "outputs": [],
   "source": [
    "master_df.drop([\"SUPERTs_7_3.0\",\"SUPERTl_7_3.0\"],axis=1,inplace=True)"
   ]
  },
  {
   "cell_type": "code",
   "execution_count": 23,
   "id": "9e95a490",
   "metadata": {},
   "outputs": [],
   "source": [
    "master_df = master_df.dropna()"
   ]
  },
  {
   "cell_type": "code",
   "execution_count": 24,
   "id": "3698a96c",
   "metadata": {},
   "outputs": [],
   "source": [
    "#master_df.rename(columns={\"index\":\"realdatetime\"},inplace=True)"
   ]
  },
  {
   "cell_type": "code",
   "execution_count": 26,
   "id": "cd4de1b2",
   "metadata": {},
   "outputs": [
    {
     "data": {
      "text/plain": [
       "symbol           0\n",
       "open             0\n",
       "high             0\n",
       "low              0\n",
       "close            0\n",
       "volume           0\n",
       "ind_datetime     0\n",
       "ADX_14           0\n",
       "DMP_14           0\n",
       "DMN_14           0\n",
       "ATRr_14          0\n",
       "CCI_14_0.015     0\n",
       "DCL_20_20        0\n",
       "DCM_20_20        0\n",
       "DCU_20_20        0\n",
       "EMA_5            0\n",
       "EMA_8            0\n",
       "EMA_13           0\n",
       "HLC3             0\n",
       "KAMA_10_2_30     0\n",
       "LR_14            0\n",
       "MACD_12_26_9     0\n",
       "MACDh_12_26_9    0\n",
       "MACDs_12_26_9    0\n",
       "OBV              0\n",
       "ROC_10           0\n",
       "RSI_14           0\n",
       "STOCHk_14_3_3    0\n",
       "STOCHd_14_3_3    0\n",
       "SUPERT_7_3.0     0\n",
       "SUPERTd_7_3.0    0\n",
       "T3_10_0.7        0\n",
       "WILLR_14         0\n",
       "dtype: int64"
      ]
     },
     "execution_count": 26,
     "metadata": {},
     "output_type": "execute_result"
    }
   ],
   "source": [
    "master_df.isnull().sum()"
   ]
  },
  {
   "cell_type": "code",
   "execution_count": 28,
   "id": "28d29e35",
   "metadata": {},
   "outputs": [],
   "source": [
    "#master_df[\"realdatetime\"]  = pd.to_datetime(master_df[\"realdatetime\"])"
   ]
  },
  {
   "cell_type": "code",
   "execution_count": null,
   "id": "34203966",
   "metadata": {},
   "outputs": [],
   "source": [
    "#master_df.set_index(\"realdatetime\",inplace=True)"
   ]
  },
  {
   "cell_type": "code",
   "execution_count": null,
   "id": "2c57beab",
   "metadata": {},
   "outputs": [],
   "source": []
  },
  {
   "cell_type": "code",
   "execution_count": 30,
   "id": "10aadde6",
   "metadata": {},
   "outputs": [],
   "source": [
    "X = master_df.iloc[:, 8:]\n",
    "y = master_df[\"close\"]"
   ]
  },
  {
   "cell_type": "code",
   "execution_count": 31,
   "id": "e718a559",
   "metadata": {},
   "outputs": [],
   "source": [
    "from sklearn.preprocessing import StandardScaler\n",
    "scaler= StandardScaler()\n",
    "scaled_x  = scaler.fit_transform(X)"
   ]
  },
  {
   "cell_type": "code",
   "execution_count": 32,
   "id": "c5d4b6a6",
   "metadata": {},
   "outputs": [
    {
     "data": {
      "text/plain": [
       "(4965, 25)"
      ]
     },
     "execution_count": 32,
     "metadata": {},
     "output_type": "execute_result"
    }
   ],
   "source": [
    "X.shape"
   ]
  },
  {
   "cell_type": "code",
   "execution_count": 33,
   "id": "5b0d5f6b",
   "metadata": {},
   "outputs": [],
   "source": [
    "X_train= X[:3000] \n",
    "X_test = X[3000:]\n",
    "y_train= y[:3000]\n",
    "y_test = y[3000:]"
   ]
  },
  {
   "cell_type": "code",
   "execution_count": 35,
   "id": "f5ded28f",
   "metadata": {},
   "outputs": [
    {
     "data": {
      "text/plain": [
       "(3000,)"
      ]
     },
     "execution_count": 35,
     "metadata": {},
     "output_type": "execute_result"
    }
   ],
   "source": [
    "y_train.shape"
   ]
  },
  {
   "cell_type": "code",
   "execution_count": null,
   "id": "fc00a530",
   "metadata": {},
   "outputs": [],
   "source": [
    "from sklearn.ensemble import RandomForestRegressor"
   ]
  },
  {
   "cell_type": "code",
   "execution_count": null,
   "id": "00d2402e",
   "metadata": {},
   "outputs": [],
   "source": [
    "rfr = RandomForestRegressor()\n",
    "rfr.fit(X_train,y_train)"
   ]
  },
  {
   "cell_type": "code",
   "execution_count": null,
   "id": "d1dc634d",
   "metadata": {},
   "outputs": [],
   "source": [
    "train_pred = rfr.predict(X_train)\n",
    "test_pred = rfr.predict(X_test)"
   ]
  },
  {
   "cell_type": "code",
   "execution_count": null,
   "id": "ae567912",
   "metadata": {},
   "outputs": [],
   "source": [
    "from sklearn.metrics import r2_score,mean_squared_error"
   ]
  },
  {
   "cell_type": "code",
   "execution_count": null,
   "id": "3a27f6bb",
   "metadata": {},
   "outputs": [],
   "source": [
    "print(\"train: R2score\",r2_score(y_train,train_pred),\" mse:\",mean_squared_error(y_train,train_pred))\n",
    "print(\"test: R2score\",r2_score(y_test,test_pred),\" mse:\",mean_squared_error(y_test,test_pred))\n"
   ]
  },
  {
   "cell_type": "code",
   "execution_count": null,
   "id": "69d95377",
   "metadata": {},
   "outputs": [],
   "source": [
    "import matplotlib.pyplot as plt"
   ]
  },
  {
   "cell_type": "code",
   "execution_count": null,
   "id": "46c13351",
   "metadata": {},
   "outputs": [],
   "source": [
    "plt.plot(y_test.index, y_test.values)\n",
    "plt.plot(y_test.index, test_pred)\n"
   ]
  },
  {
   "cell_type": "code",
   "execution_count": null,
   "id": "02763dc0",
   "metadata": {},
   "outputs": [],
   "source": [
    "test_pred"
   ]
  },
  {
   "cell_type": "code",
   "execution_count": null,
   "id": "c59ab866",
   "metadata": {},
   "outputs": [],
   "source": []
  }
 ],
 "metadata": {
  "kernelspec": {
   "display_name": "Python 3 (ipykernel)",
   "language": "python",
   "name": "python3"
  },
  "language_info": {
   "codemirror_mode": {
    "name": "ipython",
    "version": 3
   },
   "file_extension": ".py",
   "mimetype": "text/x-python",
   "name": "python",
   "nbconvert_exporter": "python",
   "pygments_lexer": "ipython3",
   "version": "3.11.5"
  }
 },
 "nbformat": 4,
 "nbformat_minor": 5
}
