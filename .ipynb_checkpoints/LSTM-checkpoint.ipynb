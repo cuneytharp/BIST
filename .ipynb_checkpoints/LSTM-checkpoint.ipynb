{
 "cells": [
  {
   "cell_type": "code",
   "execution_count": 1,
   "id": "77cd4d53",
   "metadata": {},
   "outputs": [
    {
     "name": "stdout",
     "output_type": "stream",
     "text": [
      "WARNING:tensorflow:From C:\\Users\\Cuneyt\\anaconda3\\Lib\\site-packages\\keras\\src\\losses.py:2976: The name tf.losses.sparse_softmax_cross_entropy is deprecated. Please use tf.compat.v1.losses.sparse_softmax_cross_entropy instead.\n",
      "\n"
     ]
    }
   ],
   "source": [
    "import pandas as pd\n",
    "import pandas_ta as ta\n",
    "from tvDatafeed import TvDatafeed,TvDatafeedLive,Interval\n",
    "from sklearn.preprocessing import MinMaxScaler\n",
    "import tensorflow as tf\n",
    "import numpy as np\n",
    "import matplotlib.pyplot as plt\n",
    "from tensorflow.keras.callbacks import EarlyStopping\n",
    "from sklearn.metrics import mean_squared_error,r2_score"
   ]
  },
  {
   "cell_type": "code",
   "execution_count": 2,
   "id": "a590c416",
   "metadata": {},
   "outputs": [
    {
     "name": "stderr",
     "output_type": "stream",
     "text": [
      "you are using nologin method, data you access may be limited\n"
     ]
    }
   ],
   "source": [
    "tv = TvDatafeed()\n",
    "ind_df = pd.DataFrame()"
   ]
  },
  {
   "cell_type": "code",
   "execution_count": 3,
   "id": "94c332cd",
   "metadata": {},
   "outputs": [],
   "source": [
    "stock = \"XU100\"\n",
    "exchange = \"BIST\"\n",
    "data = tv.get_hist(stock,exchange=exchange,interval=Interval.in_30_minute,n_bars=5000)"
   ]
  },
  {
   "cell_type": "code",
   "execution_count": 4,
   "id": "3a5454d0",
   "metadata": {},
   "outputs": [],
   "source": [
    "high_ = data[\"high\"]\n",
    "low_ = data[\"low\"]\n",
    "open_ = data[\"open\"]\n",
    "close_ = data[\"close\"]\n",
    "volume_ =data[\"volume\"]"
   ]
  },
  {
   "cell_type": "code",
   "execution_count": 5,
   "id": "e6054865",
   "metadata": {},
   "outputs": [],
   "source": [
    "#ind_df = pd.concat([ind_df,ta.adx(high=high_,low=low_,close=close_,length=14)],axis=1) #ADX \n",
    "#ind_df = pd.concat([ind_df,pd.DataFrame(ta.atr(high=high_,low=low_,close=close_,length=14))],axis=1) #atr\n",
    "#ind_df = pd.concat([ind_df,pd.DataFrame(ta.cci(high=high_,low=low_,close=close_))],axis=1) #atr\n",
    "#ind_df = pd.concat([ind_df,pd.DataFrame(ta.donchian(high=high_,low=low_))],axis=1) #atr\n",
    "#ind_df = pd.concat([ind_df,pd.DataFrame(ta.ema(close=close_,length=5))],axis=1) #atr\n",
    "#ind_df = pd.concat([ind_df,pd.DataFrame(ta.ema(close=close_,length=8))],axis=1) #atr\n",
    "#ind_df = pd.concat([ind_df,pd.DataFrame(ta.ema(close=close_,length=13))],axis=1) #atr\n",
    "#ind_df = pd.concat([ind_df,pd.DataFrame(ta.hlc3(high=high_,low=low_,close=close_))],axis=1) #atr\n",
    "ind_df = pd.concat([ind_df,pd.DataFrame(ta.kama(close=close_))],axis=1) #atr\n",
    "#ind_df = pd.concat([ind_df,pd.DataFrame(ta.linreg(close=close_))],axis=1) #atr\n",
    "ind_df = pd.concat([ind_df,pd.DataFrame(ta.macd(close=close_))],axis=1) #atr\n",
    "ind_df = pd.concat([ind_df,pd.DataFrame(ta.obv(volume=volume_,close=close_))],axis=1) #atr\n",
    "ind_df = pd.concat([ind_df,pd.DataFrame(ta.roc(close=close_))],axis=1) #atr\n",
    "ind_df = pd.concat([ind_df,pd.DataFrame(ta.rsi(close=close_))],axis=1) #atr\n",
    "#ind_df = pd.concat([ind_df,pd.DataFrame(ta.stoch(high=high_,low=low_,close=close_))],axis=1) #atr\n",
    "#ind_df = pd.concat([ind_df,pd.DataFrame(ta.supertrend(high=high_,low=low_,close=close_))],axis=1) #atr\n",
    "ind_df = pd.concat([ind_df,pd.DataFrame(ta.t3(close=close_))],axis=1) #atr\n",
    "ind_df = pd.concat([ind_df,pd.DataFrame(ta.willr(high=high_,low=low_,close=close_))],axis=1) #atr\n"
   ]
  },
  {
   "cell_type": "code",
   "execution_count": 6,
   "id": "44afc8e0",
   "metadata": {},
   "outputs": [],
   "source": [
    "# empty_dict = {}\n",
    "# for col in ind_df.columns:\n",
    "#     empty_dict.update({col:0})\n"
   ]
  },
  {
   "cell_type": "code",
   "execution_count": 7,
   "id": "07e67819",
   "metadata": {},
   "outputs": [],
   "source": [
    "# ind_df = pd.concat([pd.DataFrame(empty_dict,index=[0]),ind_df],axis=0)\n",
    "# ind_df"
   ]
  },
  {
   "cell_type": "code",
   "execution_count": 8,
   "id": "c2ba37ef",
   "metadata": {},
   "outputs": [],
   "source": [
    "data.reset_index(inplace=True)"
   ]
  },
  {
   "cell_type": "code",
   "execution_count": 9,
   "id": "d089a797",
   "metadata": {},
   "outputs": [],
   "source": [
    "ind_df.reset_index(inplace=True)\n",
    "ind_df.rename(columns={\"datetime\":\"ind_datetime\"},inplace=True)"
   ]
  },
  {
   "cell_type": "code",
   "execution_count": 10,
   "id": "0e5439ba",
   "metadata": {},
   "outputs": [],
   "source": [
    "master_df = pd.concat([data,ind_df],axis=1)"
   ]
  },
  {
   "cell_type": "code",
   "execution_count": 11,
   "id": "766d9a52",
   "metadata": {},
   "outputs": [],
   "source": [
    "master_df.set_index(\"datetime\",inplace=True)"
   ]
  },
  {
   "cell_type": "code",
   "execution_count": 12,
   "id": "502c2ed4",
   "metadata": {},
   "outputs": [
    {
     "data": {
      "text/html": [
       "<div>\n",
       "<style scoped>\n",
       "    .dataframe tbody tr th:only-of-type {\n",
       "        vertical-align: middle;\n",
       "    }\n",
       "\n",
       "    .dataframe tbody tr th {\n",
       "        vertical-align: top;\n",
       "    }\n",
       "\n",
       "    .dataframe thead th {\n",
       "        text-align: right;\n",
       "    }\n",
       "</style>\n",
       "<table border=\"1\" class=\"dataframe\">\n",
       "  <thead>\n",
       "    <tr style=\"text-align: right;\">\n",
       "      <th></th>\n",
       "      <th>symbol</th>\n",
       "      <th>open</th>\n",
       "      <th>high</th>\n",
       "      <th>low</th>\n",
       "      <th>close</th>\n",
       "      <th>volume</th>\n",
       "      <th>ind_datetime</th>\n",
       "      <th>KAMA_10_2_30</th>\n",
       "      <th>MACD_12_26_9</th>\n",
       "      <th>MACDh_12_26_9</th>\n",
       "      <th>MACDs_12_26_9</th>\n",
       "      <th>OBV</th>\n",
       "      <th>ROC_10</th>\n",
       "      <th>RSI_14</th>\n",
       "      <th>T3_10_0.7</th>\n",
       "      <th>WILLR_14</th>\n",
       "    </tr>\n",
       "    <tr>\n",
       "      <th>datetime</th>\n",
       "      <th></th>\n",
       "      <th></th>\n",
       "      <th></th>\n",
       "      <th></th>\n",
       "      <th></th>\n",
       "      <th></th>\n",
       "      <th></th>\n",
       "      <th></th>\n",
       "      <th></th>\n",
       "      <th></th>\n",
       "      <th></th>\n",
       "      <th></th>\n",
       "      <th></th>\n",
       "      <th></th>\n",
       "      <th></th>\n",
       "      <th></th>\n",
       "    </tr>\n",
       "  </thead>\n",
       "  <tbody>\n",
       "    <tr>\n",
       "      <th>2022-11-30 16:30:00</th>\n",
       "      <td>BIST:XU100</td>\n",
       "      <td>4985.55</td>\n",
       "      <td>4988.68</td>\n",
       "      <td>4969.70</td>\n",
       "      <td>4975.13</td>\n",
       "      <td>300677233.0</td>\n",
       "      <td>2022-11-30 16:30:00</td>\n",
       "      <td>NaN</td>\n",
       "      <td>NaN</td>\n",
       "      <td>NaN</td>\n",
       "      <td>NaN</td>\n",
       "      <td>300677233.0</td>\n",
       "      <td>NaN</td>\n",
       "      <td>NaN</td>\n",
       "      <td>NaN</td>\n",
       "      <td>NaN</td>\n",
       "    </tr>\n",
       "    <tr>\n",
       "      <th>2022-11-30 17:00:00</th>\n",
       "      <td>BIST:XU100</td>\n",
       "      <td>4974.94</td>\n",
       "      <td>4974.94</td>\n",
       "      <td>4947.73</td>\n",
       "      <td>4973.02</td>\n",
       "      <td>447493482.0</td>\n",
       "      <td>2022-11-30 17:00:00</td>\n",
       "      <td>NaN</td>\n",
       "      <td>NaN</td>\n",
       "      <td>NaN</td>\n",
       "      <td>NaN</td>\n",
       "      <td>-146816249.0</td>\n",
       "      <td>NaN</td>\n",
       "      <td>NaN</td>\n",
       "      <td>NaN</td>\n",
       "      <td>NaN</td>\n",
       "    </tr>\n",
       "  </tbody>\n",
       "</table>\n",
       "</div>"
      ],
      "text/plain": [
       "                         symbol     open     high      low    close  \\\n",
       "datetime                                                              \n",
       "2022-11-30 16:30:00  BIST:XU100  4985.55  4988.68  4969.70  4975.13   \n",
       "2022-11-30 17:00:00  BIST:XU100  4974.94  4974.94  4947.73  4973.02   \n",
       "\n",
       "                          volume        ind_datetime  KAMA_10_2_30  \\\n",
       "datetime                                                             \n",
       "2022-11-30 16:30:00  300677233.0 2022-11-30 16:30:00           NaN   \n",
       "2022-11-30 17:00:00  447493482.0 2022-11-30 17:00:00           NaN   \n",
       "\n",
       "                     MACD_12_26_9  MACDh_12_26_9  MACDs_12_26_9          OBV  \\\n",
       "datetime                                                                       \n",
       "2022-11-30 16:30:00           NaN            NaN            NaN  300677233.0   \n",
       "2022-11-30 17:00:00           NaN            NaN            NaN -146816249.0   \n",
       "\n",
       "                     ROC_10  RSI_14  T3_10_0.7  WILLR_14  \n",
       "datetime                                                  \n",
       "2022-11-30 16:30:00     NaN     NaN        NaN       NaN  \n",
       "2022-11-30 17:00:00     NaN     NaN        NaN       NaN  "
      ]
     },
     "execution_count": 12,
     "metadata": {},
     "output_type": "execute_result"
    }
   ],
   "source": [
    "master_df[:2]"
   ]
  },
  {
   "cell_type": "code",
   "execution_count": 13,
   "id": "eba21632",
   "metadata": {},
   "outputs": [],
   "source": [
    "selected_columns = ['close', 'volume', 'KAMA_10_2_30','MACD_12_26_9', 'OBV','ROC_10','RSI_14', 'T3_10_0.7', 'WILLR_14']\n",
    "df_selected = master_df[selected_columns]"
   ]
  },
  {
   "cell_type": "code",
   "execution_count": 14,
   "id": "1cace089",
   "metadata": {},
   "outputs": [
    {
     "data": {
      "text/html": [
       "<div>\n",
       "<style scoped>\n",
       "    .dataframe tbody tr th:only-of-type {\n",
       "        vertical-align: middle;\n",
       "    }\n",
       "\n",
       "    .dataframe tbody tr th {\n",
       "        vertical-align: top;\n",
       "    }\n",
       "\n",
       "    .dataframe thead th {\n",
       "        text-align: right;\n",
       "    }\n",
       "</style>\n",
       "<table border=\"1\" class=\"dataframe\">\n",
       "  <thead>\n",
       "    <tr style=\"text-align: right;\">\n",
       "      <th></th>\n",
       "      <th>close</th>\n",
       "      <th>volume</th>\n",
       "      <th>KAMA_10_2_30</th>\n",
       "      <th>MACD_12_26_9</th>\n",
       "      <th>OBV</th>\n",
       "      <th>ROC_10</th>\n",
       "      <th>RSI_14</th>\n",
       "      <th>T3_10_0.7</th>\n",
       "      <th>WILLR_14</th>\n",
       "    </tr>\n",
       "    <tr>\n",
       "      <th>datetime</th>\n",
       "      <th></th>\n",
       "      <th></th>\n",
       "      <th></th>\n",
       "      <th></th>\n",
       "      <th></th>\n",
       "      <th></th>\n",
       "      <th></th>\n",
       "      <th></th>\n",
       "      <th></th>\n",
       "    </tr>\n",
       "  </thead>\n",
       "  <tbody>\n",
       "    <tr>\n",
       "      <th>2022-12-02 11:00:00</th>\n",
       "      <td>5011.16</td>\n",
       "      <td>448547728.0</td>\n",
       "      <td>4167.255167</td>\n",
       "      <td>-4.420083</td>\n",
       "      <td>-6.001996e+08</td>\n",
       "      <td>-1.138518</td>\n",
       "      <td>42.184659</td>\n",
       "      <td>5047.299130</td>\n",
       "      <td>-78.467485</td>\n",
       "    </tr>\n",
       "    <tr>\n",
       "      <th>2022-12-02 11:30:00</th>\n",
       "      <td>5010.39</td>\n",
       "      <td>258826295.0</td>\n",
       "      <td>4217.696685</td>\n",
       "      <td>-6.337879</td>\n",
       "      <td>-8.590259e+08</td>\n",
       "      <td>-0.785535</td>\n",
       "      <td>41.963528</td>\n",
       "      <td>5044.405934</td>\n",
       "      <td>-78.145297</td>\n",
       "    </tr>\n",
       "    <tr>\n",
       "      <th>2022-12-02 12:00:00</th>\n",
       "      <td>4996.33</td>\n",
       "      <td>303278601.0</td>\n",
       "      <td>4271.102536</td>\n",
       "      <td>-8.889794</td>\n",
       "      <td>-1.162304e+09</td>\n",
       "      <td>-0.899305</td>\n",
       "      <td>38.042148</td>\n",
       "      <td>5040.463722</td>\n",
       "      <td>-80.758226</td>\n",
       "    </tr>\n",
       "    <tr>\n",
       "      <th>2022-12-02 12:30:00</th>\n",
       "      <td>4980.96</td>\n",
       "      <td>263414504.0</td>\n",
       "      <td>4299.536383</td>\n",
       "      <td>-12.013947</td>\n",
       "      <td>-1.425719e+09</td>\n",
       "      <td>-0.539737</td>\n",
       "      <td>34.271835</td>\n",
       "      <td>5035.276454</td>\n",
       "      <td>-82.756202</td>\n",
       "    </tr>\n",
       "    <tr>\n",
       "      <th>2022-12-02 13:00:00</th>\n",
       "      <td>4973.28</td>\n",
       "      <td>169883080.0</td>\n",
       "      <td>4455.279215</td>\n",
       "      <td>-14.937383</td>\n",
       "      <td>-1.595602e+09</td>\n",
       "      <td>-1.317152</td>\n",
       "      <td>32.536606</td>\n",
       "      <td>5028.880118</td>\n",
       "      <td>-89.076166</td>\n",
       "    </tr>\n",
       "    <tr>\n",
       "      <th>...</th>\n",
       "      <td>...</td>\n",
       "      <td>...</td>\n",
       "      <td>...</td>\n",
       "      <td>...</td>\n",
       "      <td>...</td>\n",
       "      <td>...</td>\n",
       "      <td>...</td>\n",
       "      <td>...</td>\n",
       "      <td>...</td>\n",
       "    </tr>\n",
       "    <tr>\n",
       "      <th>2024-01-12 16:00:00</th>\n",
       "      <td>8047.40</td>\n",
       "      <td>314808352.0</td>\n",
       "      <td>7975.912361</td>\n",
       "      <td>35.356967</td>\n",
       "      <td>6.537436e+10</td>\n",
       "      <td>2.681556</td>\n",
       "      <td>72.289178</td>\n",
       "      <td>7887.286562</td>\n",
       "      <td>-4.989018</td>\n",
       "    </tr>\n",
       "    <tr>\n",
       "      <th>2024-01-12 16:30:00</th>\n",
       "      <td>8069.64</td>\n",
       "      <td>241996667.0</td>\n",
       "      <td>8008.107439</td>\n",
       "      <td>43.253409</td>\n",
       "      <td>6.561635e+10</td>\n",
       "      <td>2.890104</td>\n",
       "      <td>74.044357</td>\n",
       "      <td>7907.142067</td>\n",
       "      <td>-3.927512</td>\n",
       "    </tr>\n",
       "    <tr>\n",
       "      <th>2024-01-12 17:00:00</th>\n",
       "      <td>8058.42</td>\n",
       "      <td>208064167.0</td>\n",
       "      <td>8024.704870</td>\n",
       "      <td>48.052121</td>\n",
       "      <td>6.540829e+10</td>\n",
       "      <td>2.857996</td>\n",
       "      <td>71.581081</td>\n",
       "      <td>7929.041078</td>\n",
       "      <td>-7.584499</td>\n",
       "    </tr>\n",
       "    <tr>\n",
       "      <th>2024-01-12 17:30:00</th>\n",
       "      <td>7984.51</td>\n",
       "      <td>299915449.0</td>\n",
       "      <td>8019.629532</td>\n",
       "      <td>45.368239</td>\n",
       "      <td>6.510838e+10</td>\n",
       "      <td>2.032468</td>\n",
       "      <td>57.913394</td>\n",
       "      <td>7949.856552</td>\n",
       "      <td>-32.084255</td>\n",
       "    </tr>\n",
       "    <tr>\n",
       "      <th>2024-01-12 18:00:00</th>\n",
       "      <td>7986.47</td>\n",
       "      <td>64278055.0</td>\n",
       "      <td>8015.909205</td>\n",
       "      <td>42.904818</td>\n",
       "      <td>6.517265e+10</td>\n",
       "      <td>1.768808</td>\n",
       "      <td>58.141647</td>\n",
       "      <td>7968.023531</td>\n",
       "      <td>-35.883328</td>\n",
       "    </tr>\n",
       "  </tbody>\n",
       "</table>\n",
       "<p>4975 rows × 9 columns</p>\n",
       "</div>"
      ],
      "text/plain": [
       "                       close       volume  KAMA_10_2_30  MACD_12_26_9  \\\n",
       "datetime                                                                \n",
       "2022-12-02 11:00:00  5011.16  448547728.0   4167.255167     -4.420083   \n",
       "2022-12-02 11:30:00  5010.39  258826295.0   4217.696685     -6.337879   \n",
       "2022-12-02 12:00:00  4996.33  303278601.0   4271.102536     -8.889794   \n",
       "2022-12-02 12:30:00  4980.96  263414504.0   4299.536383    -12.013947   \n",
       "2022-12-02 13:00:00  4973.28  169883080.0   4455.279215    -14.937383   \n",
       "...                      ...          ...           ...           ...   \n",
       "2024-01-12 16:00:00  8047.40  314808352.0   7975.912361     35.356967   \n",
       "2024-01-12 16:30:00  8069.64  241996667.0   8008.107439     43.253409   \n",
       "2024-01-12 17:00:00  8058.42  208064167.0   8024.704870     48.052121   \n",
       "2024-01-12 17:30:00  7984.51  299915449.0   8019.629532     45.368239   \n",
       "2024-01-12 18:00:00  7986.47   64278055.0   8015.909205     42.904818   \n",
       "\n",
       "                              OBV    ROC_10     RSI_14    T3_10_0.7   WILLR_14  \n",
       "datetime                                                                        \n",
       "2022-12-02 11:00:00 -6.001996e+08 -1.138518  42.184659  5047.299130 -78.467485  \n",
       "2022-12-02 11:30:00 -8.590259e+08 -0.785535  41.963528  5044.405934 -78.145297  \n",
       "2022-12-02 12:00:00 -1.162304e+09 -0.899305  38.042148  5040.463722 -80.758226  \n",
       "2022-12-02 12:30:00 -1.425719e+09 -0.539737  34.271835  5035.276454 -82.756202  \n",
       "2022-12-02 13:00:00 -1.595602e+09 -1.317152  32.536606  5028.880118 -89.076166  \n",
       "...                           ...       ...        ...          ...        ...  \n",
       "2024-01-12 16:00:00  6.537436e+10  2.681556  72.289178  7887.286562  -4.989018  \n",
       "2024-01-12 16:30:00  6.561635e+10  2.890104  74.044357  7907.142067  -3.927512  \n",
       "2024-01-12 17:00:00  6.540829e+10  2.857996  71.581081  7929.041078  -7.584499  \n",
       "2024-01-12 17:30:00  6.510838e+10  2.032468  57.913394  7949.856552 -32.084255  \n",
       "2024-01-12 18:00:00  6.517265e+10  1.768808  58.141647  7968.023531 -35.883328  \n",
       "\n",
       "[4975 rows x 9 columns]"
      ]
     },
     "execution_count": 14,
     "metadata": {},
     "output_type": "execute_result"
    }
   ],
   "source": [
    "df_selected = df_selected.dropna(axis=0)\n",
    "df_selected"
   ]
  },
  {
   "cell_type": "code",
   "execution_count": 15,
   "id": "bfe33318",
   "metadata": {},
   "outputs": [],
   "source": [
    "# Normalize the data using Min-Max scaling\n",
    "scaler = MinMaxScaler()\n",
    "df_normalized = pd.DataFrame(scaler.fit_transform(df_selected), columns=df_selected.columns)"
   ]
  },
  {
   "cell_type": "code",
   "execution_count": 16,
   "id": "edc1114e",
   "metadata": {},
   "outputs": [
    {
     "data": {
      "text/plain": [
       "(4975, 9)"
      ]
     },
     "execution_count": 16,
     "metadata": {},
     "output_type": "execute_result"
    }
   ],
   "source": [
    "df_selected.shape"
   ]
  },
  {
   "cell_type": "code",
   "execution_count": 17,
   "id": "f5730c43",
   "metadata": {},
   "outputs": [],
   "source": [
    "sequence_length = 10"
   ]
  },
  {
   "cell_type": "code",
   "execution_count": 18,
   "id": "742d6dc4",
   "metadata": {},
   "outputs": [],
   "source": [
    "def create_sequences(data, sequence_length):\n",
    "    sequences, labels = [], []\n",
    "    for i in range(len(data) - sequence_length):\n",
    "        sequence = data.iloc[i:i+sequence_length,1:]\n",
    "        label = data.iloc[i+sequence_length]['close']\n",
    "        sequences.append(sequence.values)\n",
    "        labels.append(label)\n",
    "    return np.array(sequences), np.array(labels)"
   ]
  },
  {
   "cell_type": "code",
   "execution_count": 19,
   "id": "45c5d683",
   "metadata": {},
   "outputs": [],
   "source": [
    "X, y = create_sequences(df_normalized, sequence_length)"
   ]
  },
  {
   "cell_type": "code",
   "execution_count": 20,
   "id": "e5d06bd3",
   "metadata": {},
   "outputs": [
    {
     "data": {
      "text/plain": [
       "(4965, 10, 8)"
      ]
     },
     "execution_count": 20,
     "metadata": {},
     "output_type": "execute_result"
    }
   ],
   "source": [
    "X.shape"
   ]
  },
  {
   "cell_type": "code",
   "execution_count": 21,
   "id": "2995d12f",
   "metadata": {},
   "outputs": [],
   "source": [
    "split_index = int(0.6 * len(X))\n",
    "val_split_index = int(0.8*len(X))\n",
    "X_train, X_val, X_test = X[:split_index], X[split_index:val_split_index], X[val_split_index:]\n",
    "y_train, y_val, y_test = y[:split_index], y[split_index:val_split_index], y[val_split_index:]\n"
   ]
  },
  {
   "cell_type": "code",
   "execution_count": 22,
   "id": "0c8150e7",
   "metadata": {},
   "outputs": [
    {
     "name": "stdout",
     "output_type": "stream",
     "text": [
      "WARNING:tensorflow:From C:\\Users\\Cuneyt\\anaconda3\\Lib\\site-packages\\keras\\src\\layers\\rnn\\lstm.py:148: The name tf.executing_eagerly_outside_functions is deprecated. Please use tf.compat.v1.executing_eagerly_outside_functions instead.\n",
      "\n"
     ]
    },
    {
     "name": "stderr",
     "output_type": "stream",
     "text": [
      "WARNING:tensorflow:From C:\\Users\\Cuneyt\\anaconda3\\Lib\\site-packages\\keras\\src\\layers\\rnn\\lstm.py:148: The name tf.executing_eagerly_outside_functions is deprecated. Please use tf.compat.v1.executing_eagerly_outside_functions instead.\n",
      "\n"
     ]
    }
   ],
   "source": [
    "model = tf.keras.models.Sequential([\n",
    "    tf.keras.layers.LSTM(100, return_sequences=True, input_shape=(X_train.shape[1], X_train.shape[2])),\n",
    "    tf.keras.layers.Dropout(0.3),  # Add dropout layer with a dropout rate of 0.3\n",
    "    tf.keras.layers.LSTM(50, return_sequences=False),\n",
    "    tf.keras.layers.Dropout(0.3),  # Add dropout layer with a dropout rate of 0.3\n",
    "    tf.keras.layers.Dense(25),\n",
    "    tf.keras.layers.Dense(1)\n",
    "])"
   ]
  },
  {
   "cell_type": "code",
   "execution_count": 23,
   "id": "bf793260",
   "metadata": {},
   "outputs": [
    {
     "name": "stdout",
     "output_type": "stream",
     "text": [
      "Model: \"sequential\"\n",
      "_________________________________________________________________\n",
      " Layer (type)                Output Shape              Param #   \n",
      "=================================================================\n",
      " lstm (LSTM)                 (None, 10, 100)           43600     \n",
      "                                                                 \n",
      " dropout (Dropout)           (None, 10, 100)           0         \n",
      "                                                                 \n",
      " lstm_1 (LSTM)               (None, 50)                30200     \n",
      "                                                                 \n",
      " dropout_1 (Dropout)         (None, 50)                0         \n",
      "                                                                 \n",
      " dense (Dense)               (None, 25)                1275      \n",
      "                                                                 \n",
      " dense_1 (Dense)             (None, 1)                 26        \n",
      "                                                                 \n",
      "=================================================================\n",
      "Total params: 75101 (293.36 KB)\n",
      "Trainable params: 75101 (293.36 KB)\n",
      "Non-trainable params: 0 (0.00 Byte)\n",
      "_________________________________________________________________\n"
     ]
    }
   ],
   "source": [
    "model.summary()"
   ]
  },
  {
   "cell_type": "code",
   "execution_count": 24,
   "id": "3db86e80",
   "metadata": {},
   "outputs": [
    {
     "name": "stdout",
     "output_type": "stream",
     "text": [
      "WARNING:tensorflow:From C:\\Users\\Cuneyt\\anaconda3\\Lib\\site-packages\\keras\\src\\optimizers\\__init__.py:309: The name tf.train.Optimizer is deprecated. Please use tf.compat.v1.train.Optimizer instead.\n",
      "\n"
     ]
    },
    {
     "name": "stderr",
     "output_type": "stream",
     "text": [
      "WARNING:tensorflow:From C:\\Users\\Cuneyt\\anaconda3\\Lib\\site-packages\\keras\\src\\optimizers\\__init__.py:309: The name tf.train.Optimizer is deprecated. Please use tf.compat.v1.train.Optimizer instead.\n",
      "\n"
     ]
    }
   ],
   "source": [
    "model.compile(optimizer='adam', loss='mean_squared_error')"
   ]
  },
  {
   "cell_type": "code",
   "execution_count": 26,
   "id": "b2a8e24d",
   "metadata": {},
   "outputs": [],
   "source": [
    "early_stop = EarlyStopping(monitor='val_loss', patience=10)"
   ]
  },
  {
   "cell_type": "code",
   "execution_count": 27,
   "id": "7ecbeff4",
   "metadata": {},
   "outputs": [
    {
     "name": "stdout",
     "output_type": "stream",
     "text": [
      "Epoch 1/100\n",
      "WARNING:tensorflow:From C:\\Users\\Cuneyt\\anaconda3\\Lib\\site-packages\\keras\\src\\utils\\tf_utils.py:492: The name tf.ragged.RaggedTensorValue is deprecated. Please use tf.compat.v1.ragged.RaggedTensorValue instead.\n",
      "\n"
     ]
    },
    {
     "name": "stderr",
     "output_type": "stream",
     "text": [
      "WARNING:tensorflow:From C:\\Users\\Cuneyt\\anaconda3\\Lib\\site-packages\\keras\\src\\utils\\tf_utils.py:492: The name tf.ragged.RaggedTensorValue is deprecated. Please use tf.compat.v1.ragged.RaggedTensorValue instead.\n",
      "\n"
     ]
    },
    {
     "name": "stdout",
     "output_type": "stream",
     "text": [
      "94/94 [==============================] - 10s 44ms/step - loss: 0.0072 - val_loss: 0.0012\n",
      "Epoch 2/100\n",
      "94/94 [==============================] - 3s 30ms/step - loss: 0.0017 - val_loss: 0.0076\n",
      "Epoch 3/100\n",
      "94/94 [==============================] - 3s 29ms/step - loss: 0.0012 - val_loss: 7.1781e-04\n",
      "Epoch 4/100\n",
      "94/94 [==============================] - 3s 29ms/step - loss: 0.0010 - val_loss: 0.0047\n",
      "Epoch 5/100\n",
      "94/94 [==============================] - 3s 30ms/step - loss: 8.3502e-04 - val_loss: 6.6746e-04\n",
      "Epoch 6/100\n",
      "94/94 [==============================] - 3s 29ms/step - loss: 8.2877e-04 - val_loss: 5.2628e-04\n",
      "Epoch 7/100\n",
      "94/94 [==============================] - 3s 29ms/step - loss: 7.3132e-04 - val_loss: 0.0024\n",
      "Epoch 8/100\n",
      "94/94 [==============================] - 3s 29ms/step - loss: 9.2299e-04 - val_loss: 9.6609e-04\n",
      "Epoch 9/100\n",
      "94/94 [==============================] - 3s 29ms/step - loss: 5.5474e-04 - val_loss: 0.0011\n",
      "Epoch 10/100\n",
      "94/94 [==============================] - 3s 29ms/step - loss: 5.7990e-04 - val_loss: 0.0031\n",
      "Epoch 11/100\n",
      "94/94 [==============================] - 3s 29ms/step - loss: 5.9406e-04 - val_loss: 4.4429e-04\n",
      "Epoch 12/100\n",
      "94/94 [==============================] - 3s 29ms/step - loss: 5.4068e-04 - val_loss: 5.8856e-04\n",
      "Epoch 13/100\n",
      "94/94 [==============================] - 3s 29ms/step - loss: 5.5132e-04 - val_loss: 7.1117e-04\n",
      "Epoch 14/100\n",
      "94/94 [==============================] - 3s 29ms/step - loss: 5.2869e-04 - val_loss: 5.2045e-04\n",
      "Epoch 15/100\n",
      "94/94 [==============================] - 3s 29ms/step - loss: 5.1865e-04 - val_loss: 6.4655e-04\n",
      "Epoch 16/100\n",
      "94/94 [==============================] - 3s 30ms/step - loss: 6.1692e-04 - val_loss: 5.9659e-04\n",
      "Epoch 17/100\n",
      "94/94 [==============================] - 3s 29ms/step - loss: 4.8134e-04 - val_loss: 4.4712e-04\n",
      "Epoch 18/100\n",
      "94/94 [==============================] - 3s 31ms/step - loss: 4.7263e-04 - val_loss: 0.0023\n",
      "Epoch 19/100\n",
      "94/94 [==============================] - 3s 29ms/step - loss: 5.6628e-04 - val_loss: 0.0047\n",
      "Epoch 20/100\n",
      "94/94 [==============================] - 3s 29ms/step - loss: 5.2993e-04 - val_loss: 5.7287e-04\n",
      "Epoch 21/100\n",
      "94/94 [==============================] - 3s 29ms/step - loss: 5.2664e-04 - val_loss: 5.1282e-04\n"
     ]
    }
   ],
   "source": [
    "history = model.fit(X_train, y_train, epochs=100, batch_size=32, validation_data=(X_val,y_val),callbacks=early_stop)\n"
   ]
  },
  {
   "cell_type": "code",
   "execution_count": 28,
   "id": "1fbd2023",
   "metadata": {},
   "outputs": [
    {
     "data": {
      "text/plain": [
       "<matplotlib.legend.Legend at 0x1896654a010>"
      ]
     },
     "execution_count": 28,
     "metadata": {},
     "output_type": "execute_result"
    },
    {
     "data": {
      "image/png": "[encoded data removed]",
      "text/plain": [
       "<Figure size 640x480 with 1 Axes>"
      ]
     },
     "metadata": {},
     "output_type": "display_data"
    }
   ],
   "source": [
    "plt.plot(history.history['loss'], label='Train loss')\n",
    "plt.plot(history.history['val_loss'], label='Val Loss')\n",
    "plt.legend()"
   ]
  },
  {
   "cell_type": "code",
   "execution_count": 30,
   "id": "6faacb4d",
   "metadata": {},
   "outputs": [
    {
     "name": "stdout",
     "output_type": "stream",
     "text": [
      "32/32 [==============================] - 0s 9ms/step\n",
      "Test MSE: 0.00014565016133277103\n",
      "Test RMSE: 0.012068560864194663\n",
      "R2: 0.9418516172282863\n"
     ]
    }
   ],
   "source": [
    "predictions = model.predict(X_test)\n",
    "mse = mean_squared_error(y_test, predictions)\n",
    "rmse = np.sqrt(mse)\n",
    "r2score = r2_score(y_test,predictions)\n",
    "print(\"Test MSE:\", mse)\n",
    "print(\"Test RMSE:\", rmse)\n",
    "print(\"R2:\",r2score)"
   ]
  },
  {
   "cell_type": "code",
   "execution_count": 31,
   "id": "10e92492",
   "metadata": {},
   "outputs": [
    {
     "data": {
      "text/plain": [
       "(993,)"
      ]
     },
     "execution_count": 31,
     "metadata": {},
     "output_type": "execute_result"
    }
   ],
   "source": [
    "y_test.shape"
   ]
  },
  {
   "cell_type": "code",
   "execution_count": 32,
   "id": "904d5d16",
   "metadata": {},
   "outputs": [],
   "source": [
    "temp_array = np.zeros((len(predictions), df_normalized.shape[1]))\n",
    "temp_array[:,0] = predictions.squeeze()  # Assuming 'close' prices are the first column\n",
    "\n",
    "predictions_original_scale = scaler.inverse_transform(temp_array)[:,0]"
   ]
  },
  {
   "cell_type": "code",
   "execution_count": null,
   "id": "a7cc2aba",
   "metadata": {},
   "outputs": [],
   "source": []
  },
  {
   "cell_type": "code",
   "execution_count": 33,
   "id": "a2c9b05d",
   "metadata": {},
   "outputs": [
    {
     "data": {
      "text/plain": [
       "[<matplotlib.lines.Line2D at 0x1896f966550>]"
      ]
     },
     "execution_count": 33,
     "metadata": {},
     "output_type": "execute_result"
    },
    {
     "data": {
      "image/png": "[encoded data removed]",
      "text/plain": [
       "<Figure size 640x480 with 1 Axes>"
      ]
     },
     "metadata": {},
     "output_type": "display_data"
    }
   ],
   "source": [
    "plt.plot(predictions_original_scale)\n",
    "plt.plot(df_selected[val_split_index:-10][\"close\"].values)"
   ]
  },
  {
   "cell_type": "code",
   "execution_count": null,
   "id": "c1c7fc57",
   "metadata": {},
   "outputs": [],
   "source": []
  },
  {
   "cell_type": "code",
   "execution_count": null,
   "id": "82f2eb52",
   "metadata": {},
   "outputs": [],
   "source": []
  }
 ],
 "metadata": {
  "kernelspec": {
   "display_name": "Python 3 (ipykernel)",
   "language": "python",
   "name": "python3"
  },
  "language_info": {
   "codemirror_mode": {
    "name": "ipython",
    "version": 3
   },
   "file_extension": ".py",
   "mimetype": "text/x-python",
   "name": "python",
   "nbconvert_exporter": "python",
   "pygments_lexer": "ipython3",
   "version": "3.11.5"
  }
 },
 "nbformat": 4,
 "nbformat_minor": 5
}
